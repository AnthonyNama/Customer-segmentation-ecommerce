{
 "cells": [
  {
   "cell_type": "code",
   "execution_count": 1,
   "metadata": {},
   "outputs": [],
   "source": [
    "import pandas as pd\n",
    "import numpy as np\n",
    "import seaborn as sns\n",
    "import matplotlib.cm as cm\n",
    "from sklearn import metrics\n",
    "import matplotlib.pyplot as plt\n",
    "from sklearn import preprocessing\n",
    "from sklearn.manifold import TSNE\n",
    "from sklearn.decomposition import PCA\n",
    "from sklearn.cluster import DBSCAN, KMeans\n",
    "from sklearn.metrics import pairwise_distances\n",
    "from sklearn.preprocessing import OneHotEncoder\n",
    "from sklearn.cluster import AgglomerativeClustering\n",
    "\n",
    "from kmodes.kmodes import KModes\n",
    "import plotly.graph_objects as go\n",
    "from scipy.cluster.hierarchy import dendrogram"
   ]
  },
  {
   "cell_type": "code",
   "execution_count": 2,
   "metadata": {},
   "outputs": [],
   "source": [
    "pd.set_option('display.max_colwidth', -1)"
   ]
  },
  {
   "cell_type": "code",
   "execution_count": 3,
   "metadata": {},
   "outputs": [],
   "source": [
    "donnees = pd.read_csv(\"explorationML4.csv\")"
   ]
  },
  {
   "cell_type": "code",
   "execution_count": 4,
   "metadata": {},
   "outputs": [
    {
     "data": {
      "text/plain": [
       "'2016-09-04 21:15:19'"
      ]
     },
     "execution_count": 4,
     "metadata": {},
     "output_type": "execute_result"
    }
   ],
   "source": [
    "# Search for the earliest date \n",
    "ancien = donnees[\"order_purchase_timestamp\"].min()\n",
    "ancien"
   ]
  },
  {
   "cell_type": "code",
   "execution_count": 5,
   "metadata": {},
   "outputs": [
    {
     "data": {
      "text/plain": [
       "'2018-09-03 09:06:57'"
      ]
     },
     "execution_count": 5,
     "metadata": {},
     "output_type": "execute_result"
    }
   ],
   "source": [
    "# search for the most recent date\n",
    "recent = donnees[\"order_purchase_timestamp\"].max()\n",
    "recent"
   ]
  },
  {
   "cell_type": "code",
   "execution_count": 6,
   "metadata": {},
   "outputs": [],
   "source": [
    "import datetime as dt\n",
    "aammjj = str.split(str.split(recent)[0], \"-\")\n",
    "NOW = dt.datetime(int(aammjj[0]), int(aammjj[1]), int(aammjj[2]) + 1)"
   ]
  },
  {
   "cell_type": "code",
   "execution_count": 7,
   "metadata": {},
   "outputs": [],
   "source": [
    "# Change the type of \"order_purchase_timestamp\" at datetime \n",
    "donnees[\"order_purchase_timestamp\"] = pd.to_datetime(donnees[\"order_purchase_timestamp\"])"
   ]
  },
  {
   "cell_type": "code",
   "execution_count": 8,
   "metadata": {},
   "outputs": [
    {
     "data": {
      "text/html": [
       "<div>\n",
       "<style scoped>\n",
       "    .dataframe tbody tr th:only-of-type {\n",
       "        vertical-align: middle;\n",
       "    }\n",
       "\n",
       "    .dataframe tbody tr th {\n",
       "        vertical-align: top;\n",
       "    }\n",
       "\n",
       "    .dataframe thead th {\n",
       "        text-align: right;\n",
       "    }\n",
       "</style>\n",
       "<table border=\"1\" class=\"dataframe\">\n",
       "  <thead>\n",
       "    <tr style=\"text-align: right;\">\n",
       "      <th></th>\n",
       "      <th>recency</th>\n",
       "      <th>frequency</th>\n",
       "      <th>monetary_value</th>\n",
       "    </tr>\n",
       "    <tr>\n",
       "      <th>customer_unique_id</th>\n",
       "      <th></th>\n",
       "      <th></th>\n",
       "      <th></th>\n",
       "    </tr>\n",
       "  </thead>\n",
       "  <tbody>\n",
       "    <tr>\n",
       "      <th>0000366f3b9a7992bf8c76cfdf3221e2</th>\n",
       "      <td>116</td>\n",
       "      <td>1</td>\n",
       "      <td>129.90</td>\n",
       "    </tr>\n",
       "    <tr>\n",
       "      <th>0000b849f77a49e4a4ce2b2a4ca5be3f</th>\n",
       "      <td>119</td>\n",
       "      <td>1</td>\n",
       "      <td>18.90</td>\n",
       "    </tr>\n",
       "    <tr>\n",
       "      <th>0000f46a3911fa3c0805444483337064</th>\n",
       "      <td>542</td>\n",
       "      <td>1</td>\n",
       "      <td>69.00</td>\n",
       "    </tr>\n",
       "    <tr>\n",
       "      <th>0000f6ccb0745a6a4b88665a16c9f078</th>\n",
       "      <td>326</td>\n",
       "      <td>1</td>\n",
       "      <td>25.99</td>\n",
       "    </tr>\n",
       "    <tr>\n",
       "      <th>0004aac84e0df4da2b147fca70cf8255</th>\n",
       "      <td>293</td>\n",
       "      <td>1</td>\n",
       "      <td>180.00</td>\n",
       "    </tr>\n",
       "  </tbody>\n",
       "</table>\n",
       "</div>"
      ],
      "text/plain": [
       "                                  recency  frequency  monetary_value\n",
       "customer_unique_id                                                  \n",
       "0000366f3b9a7992bf8c76cfdf3221e2  116      1          129.90        \n",
       "0000b849f77a49e4a4ce2b2a4ca5be3f  119      1          18.90         \n",
       "0000f46a3911fa3c0805444483337064  542      1          69.00         \n",
       "0000f6ccb0745a6a4b88665a16c9f078  326      1          25.99         \n",
       "0004aac84e0df4da2b147fca70cf8255  293      1          180.00        "
      ]
     },
     "execution_count": 8,
     "metadata": {},
     "output_type": "execute_result"
    }
   ],
   "source": [
    "# Set up the RFM table\n",
    "#\n",
    "# Recency: number of days elapsed since last purchase\n",
    "# \n",
    "# Frequency: the number of times the customer has made a purchase\n",
    "#\n",
    "# Monetary: the total amount spent by a client\n",
    "rfmTable = donnees.groupby('customer_unique_id').\\\n",
    "            agg({\"order_purchase_timestamp\": lambda x: (NOW - x.max()).days,\n",
    "                 \"order_id\": lambda x: x.nunique(),\n",
    "                 \"price\": lambda x: sum(x)})\n",
    "\n",
    "rfmTable['order_purchase_timestamp'] = rfmTable['order_purchase_timestamp'].astype(int)\n",
    "rfmTable.rename(columns={'order_purchase_timestamp': 'recency',\n",
    "                         'order_id': 'frequency',\n",
    "                         'price': 'monetary_value'}, inplace=True)\n",
    "rfmTable.head()"
   ]
  },
  {
   "cell_type": "code",
   "execution_count": 9,
   "metadata": {},
   "outputs": [
    {
     "name": "stdout",
     "output_type": "stream",
     "text": [
      "      recency  frequency  monetary_value\n",
      "0.25  119.0    1.0        47.90         \n",
      "0.50  223.0    1.0        89.90         \n",
      "0.75  352.0    1.0        156.45        \n"
     ]
    }
   ],
   "source": [
    "quartiles = rfmTable.quantile(q=[0.25, 0.5, 0.75])    # Calculate quartile values for the dataset\n",
    "print(quartiles)"
   ]
  },
  {
   "cell_type": "code",
   "execution_count": 10,
   "metadata": {},
   "outputs": [
    {
     "data": {
      "text/plain": [
       "{'recency': {0.25: 119.0, 0.5: 223.0, 0.75: 352.0},\n",
       " 'frequency': {0.25: 1.0, 0.5: 1.0, 0.75: 1.0},\n",
       " 'monetary_value': {0.25: 47.9, 0.5: 89.9, 0.75: 156.45}}"
      ]
     },
     "execution_count": 10,
     "metadata": {},
     "output_type": "execute_result"
    }
   ],
   "source": [
    "quartiles = quartiles.to_dict()    # Trsnformation dataframe to dictionary\n",
    "quartiles"
   ]
  },
  {
   "cell_type": "code",
   "execution_count": 11,
   "metadata": {},
   "outputs": [],
   "source": [
    "segmented_rfm = rfmTable.copy()"
   ]
  },
  {
   "cell_type": "code",
   "execution_count": 12,
   "metadata": {},
   "outputs": [],
   "source": [
    "def RScore(x,p,d):\n",
    "    \"\"\"Returns the recent score for a value relative to quartile value\"\"\"\n",
    "    if x <= d[p][0.25]:\n",
    "        return 1\n",
    "    elif x <= d[p][0.50]:\n",
    "        return 2\n",
    "    elif x <= d[p][0.75]: \n",
    "        return 3\n",
    "    else:\n",
    "        return 4\n",
    "    \n",
    "def FMScore(x,p,d):\n",
    "    \"\"\"Returns the frequency and monetary score  for a value relative to quartile value\"\"\"\n",
    "    if x <= d[p][0.25]:\n",
    "        return 4\n",
    "    elif x <= d[p][0.50]:\n",
    "        return 3\n",
    "    elif x <= d[p][0.75]: \n",
    "        return 2\n",
    "    else:\n",
    "        return 1"
   ]
  },
  {
   "cell_type": "code",
   "execution_count": 13,
   "metadata": {},
   "outputs": [
    {
     "data": {
      "text/html": [
       "<div>\n",
       "<style scoped>\n",
       "    .dataframe tbody tr th:only-of-type {\n",
       "        vertical-align: middle;\n",
       "    }\n",
       "\n",
       "    .dataframe tbody tr th {\n",
       "        vertical-align: top;\n",
       "    }\n",
       "\n",
       "    .dataframe thead th {\n",
       "        text-align: right;\n",
       "    }\n",
       "</style>\n",
       "<table border=\"1\" class=\"dataframe\">\n",
       "  <thead>\n",
       "    <tr style=\"text-align: right;\">\n",
       "      <th></th>\n",
       "      <th>recency</th>\n",
       "      <th>frequency</th>\n",
       "      <th>monetary_value</th>\n",
       "      <th>r_quartile</th>\n",
       "      <th>f_quartile</th>\n",
       "      <th>m_quartile</th>\n",
       "      <th>RFMScore</th>\n",
       "    </tr>\n",
       "    <tr>\n",
       "      <th>customer_unique_id</th>\n",
       "      <th></th>\n",
       "      <th></th>\n",
       "      <th></th>\n",
       "      <th></th>\n",
       "      <th></th>\n",
       "      <th></th>\n",
       "      <th></th>\n",
       "    </tr>\n",
       "  </thead>\n",
       "  <tbody>\n",
       "    <tr>\n",
       "      <th>0000366f3b9a7992bf8c76cfdf3221e2</th>\n",
       "      <td>116</td>\n",
       "      <td>1</td>\n",
       "      <td>129.90</td>\n",
       "      <td>1</td>\n",
       "      <td>4</td>\n",
       "      <td>2</td>\n",
       "      <td>1-4-2</td>\n",
       "    </tr>\n",
       "    <tr>\n",
       "      <th>0000b849f77a49e4a4ce2b2a4ca5be3f</th>\n",
       "      <td>119</td>\n",
       "      <td>1</td>\n",
       "      <td>18.90</td>\n",
       "      <td>1</td>\n",
       "      <td>4</td>\n",
       "      <td>4</td>\n",
       "      <td>1-4-4</td>\n",
       "    </tr>\n",
       "    <tr>\n",
       "      <th>0000f46a3911fa3c0805444483337064</th>\n",
       "      <td>542</td>\n",
       "      <td>1</td>\n",
       "      <td>69.00</td>\n",
       "      <td>4</td>\n",
       "      <td>4</td>\n",
       "      <td>3</td>\n",
       "      <td>4-4-3</td>\n",
       "    </tr>\n",
       "    <tr>\n",
       "      <th>0000f6ccb0745a6a4b88665a16c9f078</th>\n",
       "      <td>326</td>\n",
       "      <td>1</td>\n",
       "      <td>25.99</td>\n",
       "      <td>3</td>\n",
       "      <td>4</td>\n",
       "      <td>4</td>\n",
       "      <td>3-4-4</td>\n",
       "    </tr>\n",
       "    <tr>\n",
       "      <th>0004aac84e0df4da2b147fca70cf8255</th>\n",
       "      <td>293</td>\n",
       "      <td>1</td>\n",
       "      <td>180.00</td>\n",
       "      <td>3</td>\n",
       "      <td>4</td>\n",
       "      <td>1</td>\n",
       "      <td>3-4-1</td>\n",
       "    </tr>\n",
       "  </tbody>\n",
       "</table>\n",
       "</div>"
      ],
      "text/plain": [
       "                                  recency  frequency  monetary_value  \\\n",
       "customer_unique_id                                                     \n",
       "0000366f3b9a7992bf8c76cfdf3221e2  116      1          129.90           \n",
       "0000b849f77a49e4a4ce2b2a4ca5be3f  119      1          18.90            \n",
       "0000f46a3911fa3c0805444483337064  542      1          69.00            \n",
       "0000f6ccb0745a6a4b88665a16c9f078  326      1          25.99            \n",
       "0004aac84e0df4da2b147fca70cf8255  293      1          180.00           \n",
       "\n",
       "                                  r_quartile  f_quartile  m_quartile RFMScore  \n",
       "customer_unique_id                                                             \n",
       "0000366f3b9a7992bf8c76cfdf3221e2  1           4           2           1-4-2    \n",
       "0000b849f77a49e4a4ce2b2a4ca5be3f  1           4           4           1-4-4    \n",
       "0000f46a3911fa3c0805444483337064  4           4           3           4-4-3    \n",
       "0000f6ccb0745a6a4b88665a16c9f078  3           4           4           3-4-4    \n",
       "0004aac84e0df4da2b147fca70cf8255  3           4           1           3-4-1    "
      ]
     },
     "execution_count": 13,
     "metadata": {},
     "output_type": "execute_result"
    }
   ],
   "source": [
    "# Table RFM with score \n",
    "segmented_rfm['r_quartile'] = segmented_rfm['recency'].apply(RScore,\n",
    "                                                             args=('recency',quartiles)\n",
    "                                                            )\n",
    "segmented_rfm['f_quartile'] = segmented_rfm['frequency'].apply(FMScore,\n",
    "                                                               args=('frequency',quartiles)\n",
    "                                                              )\n",
    "segmented_rfm['m_quartile'] = segmented_rfm['monetary_value'].apply(FMScore,\n",
    "                                                                    args=('monetary_value',quartiles)\n",
    "                                                                   )\n",
    "\n",
    "segmented_rfm['RFMScore'] = (segmented_rfm[\"r_quartile\"].astype(str) + \"-\").\\\n",
    "                                str.cat(segmented_rfm[\"f_quartile\"].astype(str) + \"-\").\\\n",
    "                                str.cat(segmented_rfm[\"m_quartile\"].astype(str))\n",
    "\n",
    "segmented_rfm.head()"
   ]
  },
  {
   "cell_type": "code",
   "execution_count": 14,
   "metadata": {},
   "outputs": [
    {
     "data": {
      "image/png": "[encoded data removed]",
      "text/plain": [
       "<Figure size 1152x360 with 3 Axes>"
      ]
     },
     "metadata": {
      "needs_background": "light"
     },
     "output_type": "display_data"
    }
   ],
   "source": [
    "def compute_histogram_bins(data, desired_bin_size):\n",
    "    min_val = np.min(data)\n",
    "    max_val = np.max(data)\n",
    "    min_boundary = -1.0 * (min_val % desired_bin_size - min_val)\n",
    "    max_boundary = max_val - max_val % desired_bin_size + desired_bin_size\n",
    "    n_bins = int((max_boundary - min_boundary) / desired_bin_size) + 1\n",
    "    bins = np.linspace(min_boundary, max_boundary, n_bins)\n",
    "    return bins\n",
    "\n",
    "r = segmented_rfm['recency']\n",
    "m = segmented_rfm['monetary_value']\n",
    "\n",
    "plt.figure(figsize=(16, 5))\n",
    "plt.subplots_adjust(wspace= 0.5)\n",
    "\n",
    "# Recency\n",
    "plt.subplot(131)\n",
    "plt.xlabel('Recency')\n",
    "plt.ylabel('Frequence')\n",
    "counts, bins = np.histogram(r)\n",
    "plt.hist(bins[:-1], bins, weights=counts)\n",
    "\n",
    "# Frequency\n",
    "plt.subplot(132)\n",
    "plt.xlabel('Frequency')\n",
    "plt.ylabel('Frequence')\n",
    "segmented_rfm['frequency'].value_counts().plot(kind=\"bar\", width=0.5)\n",
    "\n",
    "# Monetary\n",
    "plt.subplot(133)\n",
    "plt.xlabel('Monetary')\n",
    "plt.ylabel('Frequence')\n",
    "bins = compute_histogram_bins(m, 100)\n",
    "plt.hist(m, bins=bins)\n",
    "\n",
    "plt.show()"
   ]
  },
  {
   "cell_type": "code",
   "execution_count": 15,
   "metadata": {},
   "outputs": [
    {
     "data": {
      "text/plain": [
       "{'whiskers': [<matplotlib.lines.Line2D at 0x173aa07be08>,\n",
       "  <matplotlib.lines.Line2D at 0x173aa07ba08>],\n",
       " 'caps': [<matplotlib.lines.Line2D at 0x173aa04cdc8>,\n",
       "  <matplotlib.lines.Line2D at 0x173aa04cb88>],\n",
       " 'boxes': [<matplotlib.lines.Line2D at 0x173aa07b308>],\n",
       " 'medians': [<matplotlib.lines.Line2D at 0x173aa085d48>],\n",
       " 'fliers': [<matplotlib.lines.Line2D at 0x173aa085b08>],\n",
       " 'means': []}"
      ]
     },
     "execution_count": 15,
     "metadata": {},
     "output_type": "execute_result"
    },
    {
     "data": {
      "image/png": "[encoded data removed]",
      "text/plain": [
       "<Figure size 1080x288 with 3 Axes>"
      ]
     },
     "metadata": {
      "needs_background": "light"
     },
     "output_type": "display_data"
    }
   ],
   "source": [
    "fig = plt.figure(figsize=(15, 4))\n",
    "\n",
    "ax = fig.add_subplot(131)\n",
    "ax.boxplot(segmented_rfm[\"recency\"], vert=False)\n",
    "\n",
    "ax = fig.add_subplot(132)\n",
    "ax.boxplot(segmented_rfm[\"frequency\"], vert=False)\n",
    "\n",
    "ax = fig.add_subplot(133)\n",
    "ax.boxplot(segmented_rfm[\"monetary_value\"], vert=False)"
   ]
  },
  {
   "cell_type": "code",
   "execution_count": 16,
   "metadata": {},
   "outputs": [
    {
     "data": {
      "text/plain": [
       "array(['1-4-2', '1-4-4', '4-4-3', '3-4-4', '3-4-1', '2-4-2', '2-4-4',\n",
       "       '2-4-1', '4-4-2', '4-4-4', '3-4-3', '2-4-3', '4-4-1', '1-4-3',\n",
       "       '1-4-1', '3-4-2', '3-1-1', '1-1-3', '2-1-2', '4-1-1', '2-1-1',\n",
       "       '1-1-1', '2-1-4', '4-1-3', '3-1-2', '1-1-2', '3-1-3', '1-1-4',\n",
       "       '2-1-3', '4-1-4', '4-1-2', '3-1-4'], dtype=object)"
      ]
     },
     "execution_count": 16,
     "metadata": {},
     "output_type": "execute_result"
    }
   ],
   "source": [
    "segmented_rfm['RFMScore'].unique()"
   ]
  },
  {
   "cell_type": "code",
   "execution_count": 17,
   "metadata": {},
   "outputs": [
    {
     "data": {
      "text/html": [
       "<div>\n",
       "<style scoped>\n",
       "    .dataframe tbody tr th:only-of-type {\n",
       "        vertical-align: middle;\n",
       "    }\n",
       "\n",
       "    .dataframe tbody tr th {\n",
       "        vertical-align: top;\n",
       "    }\n",
       "\n",
       "    .dataframe thead tr th {\n",
       "        text-align: left;\n",
       "    }\n",
       "\n",
       "    .dataframe thead tr:last-of-type th {\n",
       "        text-align: right;\n",
       "    }\n",
       "</style>\n",
       "<table border=\"1\" class=\"dataframe\">\n",
       "  <thead>\n",
       "    <tr>\n",
       "      <th></th>\n",
       "      <th colspan=\"2\" halign=\"left\">recency</th>\n",
       "      <th colspan=\"2\" halign=\"left\">frequency</th>\n",
       "      <th colspan=\"2\" halign=\"left\">monetary_value</th>\n",
       "      <th>size</th>\n",
       "    </tr>\n",
       "    <tr>\n",
       "      <th></th>\n",
       "      <th>mean</th>\n",
       "      <th>var</th>\n",
       "      <th>mean</th>\n",
       "      <th>var</th>\n",
       "      <th>mean</th>\n",
       "      <th>var</th>\n",
       "      <th></th>\n",
       "    </tr>\n",
       "    <tr>\n",
       "      <th>RFMScore</th>\n",
       "      <th></th>\n",
       "      <th></th>\n",
       "      <th></th>\n",
       "      <th></th>\n",
       "      <th></th>\n",
       "      <th></th>\n",
       "      <th></th>\n",
       "    </tr>\n",
       "  </thead>\n",
       "  <tbody>\n",
       "    <tr>\n",
       "      <th>1-1-1</th>\n",
       "      <td>64.043564</td>\n",
       "      <td>1110.275876</td>\n",
       "      <td>2.227723</td>\n",
       "      <td>0.688119</td>\n",
       "      <td>390.359465</td>\n",
       "      <td>121609.041936</td>\n",
       "      <td>505</td>\n",
       "    </tr>\n",
       "    <tr>\n",
       "      <th>1-1-2</th>\n",
       "      <td>61.455556</td>\n",
       "      <td>1070.361142</td>\n",
       "      <td>2.038889</td>\n",
       "      <td>0.037585</td>\n",
       "      <td>120.796722</td>\n",
       "      <td>315.336591</td>\n",
       "      <td>180</td>\n",
       "    </tr>\n",
       "    <tr>\n",
       "      <th>1-1-3</th>\n",
       "      <td>66.563830</td>\n",
       "      <td>1097.237817</td>\n",
       "      <td>2.042553</td>\n",
       "      <td>0.041181</td>\n",
       "      <td>70.661277</td>\n",
       "      <td>133.666044</td>\n",
       "      <td>94</td>\n",
       "    </tr>\n",
       "    <tr>\n",
       "      <th>1-1-4</th>\n",
       "      <td>60.480000</td>\n",
       "      <td>1393.010000</td>\n",
       "      <td>2.000000</td>\n",
       "      <td>0.000000</td>\n",
       "      <td>36.312400</td>\n",
       "      <td>67.821627</td>\n",
       "      <td>25</td>\n",
       "    </tr>\n",
       "    <tr>\n",
       "      <th>1-4-1</th>\n",
       "      <td>63.515836</td>\n",
       "      <td>1101.882252</td>\n",
       "      <td>1.000000</td>\n",
       "      <td>0.000000</td>\n",
       "      <td>368.460493</td>\n",
       "      <td>147849.568726</td>\n",
       "      <td>5399</td>\n",
       "    </tr>\n",
       "    <tr>\n",
       "      <th>1-4-2</th>\n",
       "      <td>63.639231</td>\n",
       "      <td>1112.854918</td>\n",
       "      <td>1.000000</td>\n",
       "      <td>0.000000</td>\n",
       "      <td>119.526550</td>\n",
       "      <td>342.967106</td>\n",
       "      <td>5771</td>\n",
       "    </tr>\n",
       "    <tr>\n",
       "      <th>1-4-3</th>\n",
       "      <td>60.711919</td>\n",
       "      <td>1126.555595</td>\n",
       "      <td>1.000000</td>\n",
       "      <td>0.000000</td>\n",
       "      <td>66.520719</td>\n",
       "      <td>153.907348</td>\n",
       "      <td>5856</td>\n",
       "    </tr>\n",
       "    <tr>\n",
       "      <th>1-4-4</th>\n",
       "      <td>61.690692</td>\n",
       "      <td>1119.372805</td>\n",
       "      <td>1.000000</td>\n",
       "      <td>0.000000</td>\n",
       "      <td>29.311692</td>\n",
       "      <td>105.664329</td>\n",
       "      <td>5952</td>\n",
       "    </tr>\n",
       "    <tr>\n",
       "      <th>2-1-1</th>\n",
       "      <td>174.532520</td>\n",
       "      <td>892.827861</td>\n",
       "      <td>2.168699</td>\n",
       "      <td>0.376778</td>\n",
       "      <td>365.225366</td>\n",
       "      <td>71585.021583</td>\n",
       "      <td>492</td>\n",
       "    </tr>\n",
       "    <tr>\n",
       "      <th>2-1-2</th>\n",
       "      <td>170.921687</td>\n",
       "      <td>920.436254</td>\n",
       "      <td>2.066265</td>\n",
       "      <td>0.062249</td>\n",
       "      <td>122.347169</td>\n",
       "      <td>338.164315</td>\n",
       "      <td>166</td>\n",
       "    </tr>\n",
       "    <tr>\n",
       "      <th>2-1-3</th>\n",
       "      <td>172.414634</td>\n",
       "      <td>1005.801265</td>\n",
       "      <td>2.012195</td>\n",
       "      <td>0.012195</td>\n",
       "      <td>71.559268</td>\n",
       "      <td>145.508901</td>\n",
       "      <td>82</td>\n",
       "    </tr>\n",
       "    <tr>\n",
       "      <th>2-1-4</th>\n",
       "      <td>168.240000</td>\n",
       "      <td>848.190000</td>\n",
       "      <td>2.000000</td>\n",
       "      <td>0.000000</td>\n",
       "      <td>33.818400</td>\n",
       "      <td>77.129797</td>\n",
       "      <td>25</td>\n",
       "    </tr>\n",
       "    <tr>\n",
       "      <th>2-4-1</th>\n",
       "      <td>169.993258</td>\n",
       "      <td>895.427563</td>\n",
       "      <td>1.000000</td>\n",
       "      <td>0.000000</td>\n",
       "      <td>348.085051</td>\n",
       "      <td>94695.994773</td>\n",
       "      <td>5340</td>\n",
       "    </tr>\n",
       "    <tr>\n",
       "      <th>2-4-2</th>\n",
       "      <td>169.895908</td>\n",
       "      <td>924.475611</td>\n",
       "      <td>1.000000</td>\n",
       "      <td>0.000000</td>\n",
       "      <td>120.623489</td>\n",
       "      <td>363.712377</td>\n",
       "      <td>5572</td>\n",
       "    </tr>\n",
       "    <tr>\n",
       "      <th>2-4-3</th>\n",
       "      <td>171.127868</td>\n",
       "      <td>902.610486</td>\n",
       "      <td>1.000000</td>\n",
       "      <td>0.000000</td>\n",
       "      <td>66.623783</td>\n",
       "      <td>166.794237</td>\n",
       "      <td>5709</td>\n",
       "    </tr>\n",
       "    <tr>\n",
       "      <th>2-4-4</th>\n",
       "      <td>172.772252</td>\n",
       "      <td>859.648847</td>\n",
       "      <td>1.000000</td>\n",
       "      <td>0.000000</td>\n",
       "      <td>29.464815</td>\n",
       "      <td>107.338941</td>\n",
       "      <td>5932</td>\n",
       "    </tr>\n",
       "    <tr>\n",
       "      <th>3-1-1</th>\n",
       "      <td>283.520642</td>\n",
       "      <td>1348.406469</td>\n",
       "      <td>2.107798</td>\n",
       "      <td>0.133180</td>\n",
       "      <td>405.153784</td>\n",
       "      <td>118779.265718</td>\n",
       "      <td>436</td>\n",
       "    </tr>\n",
       "    <tr>\n",
       "      <th>3-1-2</th>\n",
       "      <td>281.892405</td>\n",
       "      <td>1305.230388</td>\n",
       "      <td>2.018987</td>\n",
       "      <td>0.018745</td>\n",
       "      <td>121.841139</td>\n",
       "      <td>349.068294</td>\n",
       "      <td>158</td>\n",
       "    </tr>\n",
       "    <tr>\n",
       "      <th>3-1-3</th>\n",
       "      <td>286.536585</td>\n",
       "      <td>1064.498645</td>\n",
       "      <td>2.012195</td>\n",
       "      <td>0.012195</td>\n",
       "      <td>69.652317</td>\n",
       "      <td>169.145766</td>\n",
       "      <td>82</td>\n",
       "    </tr>\n",
       "    <tr>\n",
       "      <th>3-1-4</th>\n",
       "      <td>291.411765</td>\n",
       "      <td>1323.382353</td>\n",
       "      <td>2.000000</td>\n",
       "      <td>0.000000</td>\n",
       "      <td>40.706471</td>\n",
       "      <td>53.363062</td>\n",
       "      <td>17</td>\n",
       "    </tr>\n",
       "    <tr>\n",
       "      <th>3-4-1</th>\n",
       "      <td>283.405519</td>\n",
       "      <td>1253.354991</td>\n",
       "      <td>1.000000</td>\n",
       "      <td>0.000000</td>\n",
       "      <td>347.300715</td>\n",
       "      <td>120713.371720</td>\n",
       "      <td>5472</td>\n",
       "    </tr>\n",
       "    <tr>\n",
       "      <th>3-4-2</th>\n",
       "      <td>282.259093</td>\n",
       "      <td>1231.628940</td>\n",
       "      <td>1.000000</td>\n",
       "      <td>0.000000</td>\n",
       "      <td>119.656115</td>\n",
       "      <td>364.179411</td>\n",
       "      <td>5361</td>\n",
       "    </tr>\n",
       "    <tr>\n",
       "      <th>3-4-3</th>\n",
       "      <td>281.899701</td>\n",
       "      <td>1248.220962</td>\n",
       "      <td>1.000000</td>\n",
       "      <td>0.000000</td>\n",
       "      <td>66.829309</td>\n",
       "      <td>173.938000</td>\n",
       "      <td>6351</td>\n",
       "    </tr>\n",
       "    <tr>\n",
       "      <th>3-4-4</th>\n",
       "      <td>281.303377</td>\n",
       "      <td>1248.684200</td>\n",
       "      <td>1.000000</td>\n",
       "      <td>0.000000</td>\n",
       "      <td>29.089172</td>\n",
       "      <td>104.392903</td>\n",
       "      <td>5686</td>\n",
       "    </tr>\n",
       "    <tr>\n",
       "      <th>4-1-1</th>\n",
       "      <td>439.862573</td>\n",
       "      <td>4393.379885</td>\n",
       "      <td>2.081871</td>\n",
       "      <td>0.081254</td>\n",
       "      <td>416.046520</td>\n",
       "      <td>281979.244514</td>\n",
       "      <td>342</td>\n",
       "    </tr>\n",
       "    <tr>\n",
       "      <th>4-1-2</th>\n",
       "      <td>443.700680</td>\n",
       "      <td>4344.457739</td>\n",
       "      <td>2.047619</td>\n",
       "      <td>0.045662</td>\n",
       "      <td>124.479796</td>\n",
       "      <td>342.965594</td>\n",
       "      <td>147</td>\n",
       "    </tr>\n",
       "    <tr>\n",
       "      <th>4-1-3</th>\n",
       "      <td>459.272727</td>\n",
       "      <td>4305.647552</td>\n",
       "      <td>2.106061</td>\n",
       "      <td>0.311655</td>\n",
       "      <td>70.195303</td>\n",
       "      <td>146.509041</td>\n",
       "      <td>66</td>\n",
       "    </tr>\n",
       "    <tr>\n",
       "      <th>4-1-4</th>\n",
       "      <td>484.187500</td>\n",
       "      <td>6883.899194</td>\n",
       "      <td>2.156250</td>\n",
       "      <td>0.200605</td>\n",
       "      <td>33.655000</td>\n",
       "      <td>69.538058</td>\n",
       "      <td>32</td>\n",
       "    </tr>\n",
       "    <tr>\n",
       "      <th>4-4-1</th>\n",
       "      <td>460.122991</td>\n",
       "      <td>5465.397985</td>\n",
       "      <td>1.000000</td>\n",
       "      <td>0.000000</td>\n",
       "      <td>364.044593</td>\n",
       "      <td>128796.448766</td>\n",
       "      <td>5537</td>\n",
       "    </tr>\n",
       "    <tr>\n",
       "      <th>4-4-2</th>\n",
       "      <td>458.014057</td>\n",
       "      <td>5067.088317</td>\n",
       "      <td>1.000000</td>\n",
       "      <td>0.000000</td>\n",
       "      <td>118.421639</td>\n",
       "      <td>324.381888</td>\n",
       "      <td>5051</td>\n",
       "    </tr>\n",
       "    <tr>\n",
       "      <th>4-4-3</th>\n",
       "      <td>452.613838</td>\n",
       "      <td>4953.946659</td>\n",
       "      <td>1.000000</td>\n",
       "      <td>0.000000</td>\n",
       "      <td>66.945356</td>\n",
       "      <td>171.248104</td>\n",
       "      <td>6316</td>\n",
       "    </tr>\n",
       "    <tr>\n",
       "      <th>4-4-4</th>\n",
       "      <td>460.526254</td>\n",
       "      <td>5098.075645</td>\n",
       "      <td>1.000000</td>\n",
       "      <td>0.000000</td>\n",
       "      <td>28.942839</td>\n",
       "      <td>109.713155</td>\n",
       "      <td>5942</td>\n",
       "    </tr>\n",
       "  </tbody>\n",
       "</table>\n",
       "</div>"
      ],
      "text/plain": [
       "             recency              frequency           monetary_value  \\\n",
       "                mean          var      mean       var           mean   \n",
       "RFMScore                                                               \n",
       "1-1-1     64.043564   1110.275876  2.227723  0.688119  390.359465      \n",
       "1-1-2     61.455556   1070.361142  2.038889  0.037585  120.796722      \n",
       "1-1-3     66.563830   1097.237817  2.042553  0.041181  70.661277       \n",
       "1-1-4     60.480000   1393.010000  2.000000  0.000000  36.312400       \n",
       "1-4-1     63.515836   1101.882252  1.000000  0.000000  368.460493      \n",
       "1-4-2     63.639231   1112.854918  1.000000  0.000000  119.526550      \n",
       "1-4-3     60.711919   1126.555595  1.000000  0.000000  66.520719       \n",
       "1-4-4     61.690692   1119.372805  1.000000  0.000000  29.311692       \n",
       "2-1-1     174.532520  892.827861   2.168699  0.376778  365.225366      \n",
       "2-1-2     170.921687  920.436254   2.066265  0.062249  122.347169      \n",
       "2-1-3     172.414634  1005.801265  2.012195  0.012195  71.559268       \n",
       "2-1-4     168.240000  848.190000   2.000000  0.000000  33.818400       \n",
       "2-4-1     169.993258  895.427563   1.000000  0.000000  348.085051      \n",
       "2-4-2     169.895908  924.475611   1.000000  0.000000  120.623489      \n",
       "2-4-3     171.127868  902.610486   1.000000  0.000000  66.623783       \n",
       "2-4-4     172.772252  859.648847   1.000000  0.000000  29.464815       \n",
       "3-1-1     283.520642  1348.406469  2.107798  0.133180  405.153784      \n",
       "3-1-2     281.892405  1305.230388  2.018987  0.018745  121.841139      \n",
       "3-1-3     286.536585  1064.498645  2.012195  0.012195  69.652317       \n",
       "3-1-4     291.411765  1323.382353  2.000000  0.000000  40.706471       \n",
       "3-4-1     283.405519  1253.354991  1.000000  0.000000  347.300715      \n",
       "3-4-2     282.259093  1231.628940  1.000000  0.000000  119.656115      \n",
       "3-4-3     281.899701  1248.220962  1.000000  0.000000  66.829309       \n",
       "3-4-4     281.303377  1248.684200  1.000000  0.000000  29.089172       \n",
       "4-1-1     439.862573  4393.379885  2.081871  0.081254  416.046520      \n",
       "4-1-2     443.700680  4344.457739  2.047619  0.045662  124.479796      \n",
       "4-1-3     459.272727  4305.647552  2.106061  0.311655  70.195303       \n",
       "4-1-4     484.187500  6883.899194  2.156250  0.200605  33.655000       \n",
       "4-4-1     460.122991  5465.397985  1.000000  0.000000  364.044593      \n",
       "4-4-2     458.014057  5067.088317  1.000000  0.000000  118.421639      \n",
       "4-4-3     452.613838  4953.946659  1.000000  0.000000  66.945356       \n",
       "4-4-4     460.526254  5098.075645  1.000000  0.000000  28.942839       \n",
       "\n",
       "                         size  \n",
       "                    var        \n",
       "RFMScore                       \n",
       "1-1-1     121609.041936  505   \n",
       "1-1-2     315.336591     180   \n",
       "1-1-3     133.666044     94    \n",
       "1-1-4     67.821627      25    \n",
       "1-4-1     147849.568726  5399  \n",
       "1-4-2     342.967106     5771  \n",
       "1-4-3     153.907348     5856  \n",
       "1-4-4     105.664329     5952  \n",
       "2-1-1     71585.021583   492   \n",
       "2-1-2     338.164315     166   \n",
       "2-1-3     145.508901     82    \n",
       "2-1-4     77.129797      25    \n",
       "2-4-1     94695.994773   5340  \n",
       "2-4-2     363.712377     5572  \n",
       "2-4-3     166.794237     5709  \n",
       "2-4-4     107.338941     5932  \n",
       "3-1-1     118779.265718  436   \n",
       "3-1-2     349.068294     158   \n",
       "3-1-3     169.145766     82    \n",
       "3-1-4     53.363062      17    \n",
       "3-4-1     120713.371720  5472  \n",
       "3-4-2     364.179411     5361  \n",
       "3-4-3     173.938000     6351  \n",
       "3-4-4     104.392903     5686  \n",
       "4-1-1     281979.244514  342   \n",
       "4-1-2     342.965594     147   \n",
       "4-1-3     146.509041     66    \n",
       "4-1-4     69.538058      32    \n",
       "4-4-1     128796.448766  5537  \n",
       "4-4-2     324.381888     5051  \n",
       "4-4-3     171.248104     6316  \n",
       "4-4-4     109.713155     5942  "
      ]
     },
     "execution_count": 17,
     "metadata": {},
     "output_type": "execute_result"
    }
   ],
   "source": [
    "mean_var = segmented_rfm.groupby(\"RFMScore\")[[\"recency\", \"frequency\",\n",
    "                                              \"monetary_value\"]].agg([np.mean, np.var])\n",
    "mean_var[\"size\"] = segmented_rfm.groupby('RFMScore')[['recency']].agg([np.size]) \n",
    "mean_var"
   ]
  },
  {
   "cell_type": "code",
   "execution_count": 18,
   "metadata": {},
   "outputs": [],
   "source": [
    "# Contingency table\n",
    "# Recency X frequency, Recency X Monetary_value, Frequency X Monetary_value\n",
    "RF = pd.DataFrame(columns=['1', '2', '3', '4'])\n",
    "RM = pd.DataFrame(columns=['1', '2', '3', '4'])\n",
    "FM = pd.DataFrame(columns=['1', '2', '3', '4'])\n",
    "size = segmented_rfm.shape[0]\n",
    "for i in range(1, 5):\n",
    "    row_crf = []\n",
    "    row_crm = []\n",
    "    row_cfm = []\n",
    "    for j in range(1, 5):\n",
    "        crf = 0\n",
    "        crm = 0\n",
    "        cfm = 0\n",
    "        for k, row in segmented_rfm.iterrows():\n",
    "            if row[\"r_quartile\"] == i and row[\"f_quartile\"] == j:\n",
    "                crf += 1\n",
    "            if row[\"r_quartile\"] == i and row[\"m_quartile\"] == j:\n",
    "                crm += 1\n",
    "            if row[\"f_quartile\"] == i and row[\"m_quartile\"] == j:\n",
    "                cfm += 1\n",
    "        row_crf.append(crf)\n",
    "        row_crm.append(crm)\n",
    "        row_cfm.append(cfm)\n",
    "    RF.loc[i] = row_crf\n",
    "    RM.loc[i] = row_crm\n",
    "    FM.loc[i] = row_cfm"
   ]
  },
  {
   "cell_type": "code",
   "execution_count": 19,
   "metadata": {},
   "outputs": [
    {
     "data": {
      "text/html": [
       "<div>\n",
       "<style scoped>\n",
       "    .dataframe tbody tr th:only-of-type {\n",
       "        vertical-align: middle;\n",
       "    }\n",
       "\n",
       "    .dataframe tbody tr th {\n",
       "        vertical-align: top;\n",
       "    }\n",
       "\n",
       "    .dataframe thead th {\n",
       "        text-align: right;\n",
       "    }\n",
       "</style>\n",
       "<table border=\"1\" class=\"dataframe\">\n",
       "  <thead>\n",
       "    <tr style=\"text-align: right;\">\n",
       "      <th></th>\n",
       "      <th>1</th>\n",
       "      <th>2</th>\n",
       "      <th>3</th>\n",
       "      <th>4</th>\n",
       "    </tr>\n",
       "  </thead>\n",
       "  <tbody>\n",
       "    <tr>\n",
       "      <th>1</th>\n",
       "      <td>804</td>\n",
       "      <td>0</td>\n",
       "      <td>0</td>\n",
       "      <td>22978</td>\n",
       "    </tr>\n",
       "    <tr>\n",
       "      <th>2</th>\n",
       "      <td>765</td>\n",
       "      <td>0</td>\n",
       "      <td>0</td>\n",
       "      <td>22553</td>\n",
       "    </tr>\n",
       "    <tr>\n",
       "      <th>3</th>\n",
       "      <td>693</td>\n",
       "      <td>0</td>\n",
       "      <td>0</td>\n",
       "      <td>22870</td>\n",
       "    </tr>\n",
       "    <tr>\n",
       "      <th>4</th>\n",
       "      <td>587</td>\n",
       "      <td>0</td>\n",
       "      <td>0</td>\n",
       "      <td>22846</td>\n",
       "    </tr>\n",
       "  </tbody>\n",
       "</table>\n",
       "</div>"
      ],
      "text/plain": [
       "     1  2  3      4\n",
       "1  804  0  0  22978\n",
       "2  765  0  0  22553\n",
       "3  693  0  0  22870\n",
       "4  587  0  0  22846"
      ]
     },
     "execution_count": 19,
     "metadata": {},
     "output_type": "execute_result"
    }
   ],
   "source": [
    "RF.style.set_caption(\"Recency X Frequency\")\n",
    "RF"
   ]
  },
  {
   "cell_type": "code",
   "execution_count": 20,
   "metadata": {},
   "outputs": [
    {
     "data": {
      "text/html": [
       "<div>\n",
       "<style scoped>\n",
       "    .dataframe tbody tr th:only-of-type {\n",
       "        vertical-align: middle;\n",
       "    }\n",
       "\n",
       "    .dataframe tbody tr th {\n",
       "        vertical-align: top;\n",
       "    }\n",
       "\n",
       "    .dataframe thead th {\n",
       "        text-align: right;\n",
       "    }\n",
       "</style>\n",
       "<table border=\"1\" class=\"dataframe\">\n",
       "  <thead>\n",
       "    <tr style=\"text-align: right;\">\n",
       "      <th></th>\n",
       "      <th>1</th>\n",
       "      <th>2</th>\n",
       "      <th>3</th>\n",
       "      <th>4</th>\n",
       "    </tr>\n",
       "  </thead>\n",
       "  <tbody>\n",
       "    <tr>\n",
       "      <th>1</th>\n",
       "      <td>5904</td>\n",
       "      <td>5951</td>\n",
       "      <td>5950</td>\n",
       "      <td>5977</td>\n",
       "    </tr>\n",
       "    <tr>\n",
       "      <th>2</th>\n",
       "      <td>5832</td>\n",
       "      <td>5738</td>\n",
       "      <td>5791</td>\n",
       "      <td>5957</td>\n",
       "    </tr>\n",
       "    <tr>\n",
       "      <th>3</th>\n",
       "      <td>5908</td>\n",
       "      <td>5519</td>\n",
       "      <td>6433</td>\n",
       "      <td>5703</td>\n",
       "    </tr>\n",
       "    <tr>\n",
       "      <th>4</th>\n",
       "      <td>5879</td>\n",
       "      <td>5198</td>\n",
       "      <td>6382</td>\n",
       "      <td>5974</td>\n",
       "    </tr>\n",
       "  </tbody>\n",
       "</table>\n",
       "</div>"
      ],
      "text/plain": [
       "      1     2     3     4\n",
       "1  5904  5951  5950  5977\n",
       "2  5832  5738  5791  5957\n",
       "3  5908  5519  6433  5703\n",
       "4  5879  5198  6382  5974"
      ]
     },
     "execution_count": 20,
     "metadata": {},
     "output_type": "execute_result"
    }
   ],
   "source": [
    "RM.style.set_caption(\"Recency X Monetary\")\n",
    "RM"
   ]
  },
  {
   "cell_type": "code",
   "execution_count": 21,
   "metadata": {},
   "outputs": [
    {
     "data": {
      "text/html": [
       "<div>\n",
       "<style scoped>\n",
       "    .dataframe tbody tr th:only-of-type {\n",
       "        vertical-align: middle;\n",
       "    }\n",
       "\n",
       "    .dataframe tbody tr th {\n",
       "        vertical-align: top;\n",
       "    }\n",
       "\n",
       "    .dataframe thead th {\n",
       "        text-align: right;\n",
       "    }\n",
       "</style>\n",
       "<table border=\"1\" class=\"dataframe\">\n",
       "  <thead>\n",
       "    <tr style=\"text-align: right;\">\n",
       "      <th></th>\n",
       "      <th>1</th>\n",
       "      <th>2</th>\n",
       "      <th>3</th>\n",
       "      <th>4</th>\n",
       "    </tr>\n",
       "  </thead>\n",
       "  <tbody>\n",
       "    <tr>\n",
       "      <th>1</th>\n",
       "      <td>1775</td>\n",
       "      <td>651</td>\n",
       "      <td>324</td>\n",
       "      <td>99</td>\n",
       "    </tr>\n",
       "    <tr>\n",
       "      <th>2</th>\n",
       "      <td>0</td>\n",
       "      <td>0</td>\n",
       "      <td>0</td>\n",
       "      <td>0</td>\n",
       "    </tr>\n",
       "    <tr>\n",
       "      <th>3</th>\n",
       "      <td>0</td>\n",
       "      <td>0</td>\n",
       "      <td>0</td>\n",
       "      <td>0</td>\n",
       "    </tr>\n",
       "    <tr>\n",
       "      <th>4</th>\n",
       "      <td>21748</td>\n",
       "      <td>21755</td>\n",
       "      <td>24232</td>\n",
       "      <td>23512</td>\n",
       "    </tr>\n",
       "  </tbody>\n",
       "</table>\n",
       "</div>"
      ],
      "text/plain": [
       "       1      2      3      4\n",
       "1  1775   651    324    99   \n",
       "2  0      0      0      0    \n",
       "3  0      0      0      0    \n",
       "4  21748  21755  24232  23512"
      ]
     },
     "execution_count": 21,
     "metadata": {},
     "output_type": "execute_result"
    }
   ],
   "source": [
    "FM.style.set_caption(\"frequency X Monetary\")\n",
    "FM"
   ]
  },
  {
   "cell_type": "code",
   "execution_count": 22,
   "metadata": {},
   "outputs": [],
   "source": [
    "customer_segment = pd.DataFrame()\n",
    "segment = [\"Best Customers\", \"Loyal Customers\", \"Big Spenders\", \"Almost Lost\",\n",
    "           \"Lost Customers\", \"Lost Cheap Customers\", \"Autres\"\n",
    "          ]\n",
    "rfm = [\"1-1-1\", \"X-1-X\", \"X-X-1\", \"3-1-1\", \"4-1-1\", \"4-4-4\", \"Autres\"]\n",
    "description = [\"Les clients qui ont acheté le plus récemment, le plus souvent \\\n",
    "               et qui dépensent le plus.\",\n",
    "               \"Les clients ayant acheté le plus récemment\",\n",
    "               \"Les clients qui dépensent le plus\",\n",
    "               \"N'ont pas acheté depuis un certain temps, mais ont acheté fréquemment \\\n",
    "               et ont dépensé le plus.\",\n",
    "               \"N'ont pas acheté depuis longtemps, mais ont acheté fréquemment et ont \\\n",
    "               dépensé le plus.\",\n",
    "               \"Dernier achat il y a longtemps, acheté peu et dépensé peu.\",\n",
    "               \"\"\n",
    "              ]\n",
    "marketing = [\"Pas d'incitation aux prix, Nouveaux produits et programmes de fidélité\",\n",
    "             \"Vendre des produits de plus grande valeur. Demandez des commentaires. Engagez-les.\",\n",
    "             \"Commercialisez vos produits les plus chers.\",\n",
    "             \"Offrez d'autres produits pertinents et des rabais spéciaux.\",\n",
    "             \"Incitations à des prix agressifs\",\n",
    "             \"Ne passez pas trop de temps à essayer de vous ré-acquérir.\",\n",
    "             \"Ajuster les intervales pour le réduire si important\"\n",
    "            ]\n",
    "customer_segment[\"rfm\"] = rfm\n",
    "customer_segment[\"segments clients\"] = segment "
   ]
  },
  {
   "cell_type": "code",
   "execution_count": 23,
   "metadata": {},
   "outputs": [],
   "source": [
    "sums = []\n",
    "X1X = [\"1-1-2\", \"1-1-3\", \"1-1-4\", \"2-1-1\", \"2-1-2\", \"2-1-3\", \"2-1-4\"]\n",
    "XX1 = [\"1-2-1\", \"1-3-1\", \"1-4-1\", \"2-2-1\", \"2-3-1\", \"2-4-1\"]\n",
    "for r in rfm:\n",
    "    count = 0\n",
    "    if r == \"X-1-X\":\n",
    "        for j, row in segmented_rfm.iterrows():\n",
    "            if row[\"RFMScore\"] in X1X:\n",
    "                count += 1\n",
    "        sums.append(count)\n",
    "    if r == \"X-X-1\":\n",
    "        for j, row in segmented_rfm.iterrows():\n",
    "            if row[\"RFMScore\"] in XX1 and r != \"2-1-1\":\n",
    "                count += 1\n",
    "        sums.append(count)\n",
    "    if r != \"X-1-X\" and r != \"X-X-1\" and r != \"Autres\":\n",
    "        for j, row in segmented_rfm.iterrows():\n",
    "            if row[\"RFMScore\"] == r:\n",
    "                count += 1\n",
    "        sums.append(count)\n",
    "    if r == \"Autres\":\n",
    "        for j, row in segmented_rfm.iterrows():\n",
    "            if row[\"RFMScore\"] not in rfm and row[\"RFMScore\"] not in X1X and \\\n",
    "            row[\"RFMScore\"] not in XX1:\n",
    "                count += 1\n",
    "        sums.append(count)\n",
    "        \n",
    "customer_segment[\"nombre de clients\"] = sums"
   ]
  },
  {
   "cell_type": "code",
   "execution_count": 24,
   "metadata": {},
   "outputs": [
    {
     "data": {
      "text/html": [
       "<div>\n",
       "<style scoped>\n",
       "    .dataframe tbody tr th:only-of-type {\n",
       "        vertical-align: middle;\n",
       "    }\n",
       "\n",
       "    .dataframe tbody tr th {\n",
       "        vertical-align: top;\n",
       "    }\n",
       "\n",
       "    .dataframe thead th {\n",
       "        text-align: right;\n",
       "    }\n",
       "</style>\n",
       "<table border=\"1\" class=\"dataframe\">\n",
       "  <thead>\n",
       "    <tr style=\"text-align: right;\">\n",
       "      <th></th>\n",
       "      <th>rfm</th>\n",
       "      <th>segments clients</th>\n",
       "      <th>nombre de clients</th>\n",
       "      <th>activité</th>\n",
       "      <th>Conseil d'action</th>\n",
       "    </tr>\n",
       "  </thead>\n",
       "  <tbody>\n",
       "    <tr>\n",
       "      <th>0</th>\n",
       "      <td>1-1-1</td>\n",
       "      <td>Best Customers</td>\n",
       "      <td>505</td>\n",
       "      <td>Les clients qui ont acheté le plus récemment, le plus souvent                et qui dépensent le plus.</td>\n",
       "      <td>Pas d'incitation aux prix, Nouveaux produits et programmes de fidélité</td>\n",
       "    </tr>\n",
       "    <tr>\n",
       "      <th>1</th>\n",
       "      <td>X-1-X</td>\n",
       "      <td>Loyal Customers</td>\n",
       "      <td>1064</td>\n",
       "      <td>Les clients ayant acheté le plus récemment</td>\n",
       "      <td>Vendre des produits de plus grande valeur. Demandez des commentaires. Engagez-les.</td>\n",
       "    </tr>\n",
       "    <tr>\n",
       "      <th>2</th>\n",
       "      <td>X-X-1</td>\n",
       "      <td>Big Spenders</td>\n",
       "      <td>10739</td>\n",
       "      <td>Les clients qui dépensent le plus</td>\n",
       "      <td>Commercialisez vos produits les plus chers.</td>\n",
       "    </tr>\n",
       "    <tr>\n",
       "      <th>3</th>\n",
       "      <td>3-1-1</td>\n",
       "      <td>Almost Lost</td>\n",
       "      <td>436</td>\n",
       "      <td>N'ont pas acheté depuis un certain temps, mais ont acheté fréquemment                et ont dépensé le plus.</td>\n",
       "      <td>Offrez d'autres produits pertinents et des rabais spéciaux.</td>\n",
       "    </tr>\n",
       "    <tr>\n",
       "      <th>4</th>\n",
       "      <td>4-1-1</td>\n",
       "      <td>Lost Customers</td>\n",
       "      <td>342</td>\n",
       "      <td>N'ont pas acheté depuis longtemps, mais ont acheté fréquemment et ont                dépensé le plus.</td>\n",
       "      <td>Incitations à des prix agressifs</td>\n",
       "    </tr>\n",
       "    <tr>\n",
       "      <th>5</th>\n",
       "      <td>4-4-4</td>\n",
       "      <td>Lost Cheap Customers</td>\n",
       "      <td>5942</td>\n",
       "      <td>Dernier achat il y a longtemps, acheté peu et dépensé peu.</td>\n",
       "      <td>Ne passez pas trop de temps à essayer de vous ré-acquérir.</td>\n",
       "    </tr>\n",
       "    <tr>\n",
       "      <th>6</th>\n",
       "      <td>Autres</td>\n",
       "      <td>Autres</td>\n",
       "      <td>75068</td>\n",
       "      <td></td>\n",
       "      <td>Ajuster les intervales pour le réduire si important</td>\n",
       "    </tr>\n",
       "  </tbody>\n",
       "</table>\n",
       "</div>"
      ],
      "text/plain": [
       "      rfm      segments clients  nombre de clients  \\\n",
       "0  1-1-1   Best Customers        505                 \n",
       "1  X-1-X   Loyal Customers       1064                \n",
       "2  X-X-1   Big Spenders          10739               \n",
       "3  3-1-1   Almost Lost           436                 \n",
       "4  4-1-1   Lost Customers        342                 \n",
       "5  4-4-4   Lost Cheap Customers  5942                \n",
       "6  Autres  Autres                75068               \n",
       "\n",
       "                                                                                                       activité  \\\n",
       "0  Les clients qui ont acheté le plus récemment, le plus souvent                et qui dépensent le plus.         \n",
       "1  Les clients ayant acheté le plus récemment                                                                     \n",
       "2  Les clients qui dépensent le plus                                                                              \n",
       "3  N'ont pas acheté depuis un certain temps, mais ont acheté fréquemment                et ont dépensé le plus.   \n",
       "4  N'ont pas acheté depuis longtemps, mais ont acheté fréquemment et ont                dépensé le plus.          \n",
       "5  Dernier achat il y a longtemps, acheté peu et dépensé peu.                                                     \n",
       "6                                                                                                                 \n",
       "\n",
       "                                                                     Conseil d'action  \n",
       "0  Pas d'incitation aux prix, Nouveaux produits et programmes de fidélité              \n",
       "1  Vendre des produits de plus grande valeur. Demandez des commentaires. Engagez-les.  \n",
       "2  Commercialisez vos produits les plus chers.                                         \n",
       "3  Offrez d'autres produits pertinents et des rabais spéciaux.                         \n",
       "4  Incitations à des prix agressifs                                                    \n",
       "5  Ne passez pas trop de temps à essayer de vous ré-acquérir.                          \n",
       "6  Ajuster les intervales pour le réduire si important                                 "
      ]
     },
     "execution_count": 24,
     "metadata": {},
     "output_type": "execute_result"
    }
   ],
   "source": [
    "customer_segment[\"activité\"] = description\n",
    "customer_segment[\"Conseil d'action\"] = marketing\n",
    "\n",
    "# Customer/segment\n",
    "customer_segment"
   ]
  },
  {
   "cell_type": "code",
   "execution_count": 25,
   "metadata": {},
   "outputs": [],
   "source": [
    "customer_segment_ = pd.DataFrame()\n",
    "segment_ = [\"Best Customers\", \"Loyal Customers\", \"Promissing\", \"Big Spenders\",\n",
    "            \"Almost Lost\", \"Lost Customers\", \"Lost Cheap Customers\", \"Autres\"\n",
    "           ]\n",
    "description_ = [\"Les clients qui ont acheté le plus récemment, le plus souvent \\\n",
    "                et qui dépensent le plus.\",\n",
    "                \"Les clients ayant acheté le plus récemment\",\n",
    "                \"Des acheteurs récents, mais qui n'ont pas beaucoup dépensé\",\n",
    "                \"Les clients qui dépensent le plus\",\n",
    "                \"N'ont pas acheté depuis un certain temps, mais ont acheté fréquemment \\\n",
    "                et ont dépensé le plus.\",\n",
    "                \"N'ont pas acheté depuis longtemps, mais ont acheté fréquemment \\\n",
    "                et ont dépensé le plus.\",\n",
    "                \"Dernier achat il y a longtemps, acheté peu et dépensé peu.\",\n",
    "                \"\"\n",
    "               ]\n",
    "marketing_ = [\"Pas d'incitation aux prix, Nouveaux produits et programmes de fidélité\",\n",
    "              \"Vendre des produits de plus grande valeur. Demandez des commentaires. Engagez-les.\",\n",
    "              \"offrir des essais gratuits\",\n",
    "              \"Commercialisez vos produits les plus chers.\",\n",
    "              \"Offrez d'autres produits pertinents et des rabais spéciaux.\",\n",
    "              \"Incitations à des prix agressifs\",\n",
    "              \"Ne passez pas trop de temps à essayer de vous ré-acquérir.\",\n",
    "              \"Ajuster les intervales pour le réduire si important\"\n",
    "             ]\n",
    "customer_segment_[\"segment\"] = segment_"
   ]
  },
  {
   "cell_type": "code",
   "execution_count": 26,
   "metadata": {},
   "outputs": [],
   "source": [
    "recents_ = []\n",
    "def countCustomerSegment(segmented_rfmp):\n",
    "    \"\"\"Main function is to return the customer identities for each segment\"\"\"\n",
    "    seg_cus_id = {\"Best Customers\": [], \"Loyal Customers\": [], \"Promissing\": [],\n",
    "                  \"Big Spenders\": [],\"Almost Lost\": [], \"Lost Customers\": [],\n",
    "                  \"Lost Cheap Customers\": [], \"Autres\": []}\n",
    "    sums_ = []\n",
    "    best = [\"1-1-1\"]\n",
    "    X1X_ = [\"1-1-2\", \"1-1-3\", \"1-1-4\", \"2-1-1\", \"2-1-2\", \"2-1-3\", \"2-1-4\", \"1-4-2\", \"2-4-2\"]\n",
    "    promiss = [\"1-4-3\", \"1-4-4\", \"2-4-3\", \"2-4-4\"]\n",
    "    XX1_ = [\"1-2-1\", \"1-3-1\", \"1-4-1\", \"2-3-1\", \"2-4-1\"]\n",
    "    almost_lost = [\"3-1-1\", \"3-4-1\", \"3-4-2\"]\n",
    "    lost = [\"3-4-3\", \"3-4-4\", \"4-1-1\", \"4-4-1\", \"4-4-2\"]\n",
    "    lost_cheap = [\"4-4-4\", \"4-4-3\"]\n",
    "    for s in segment_:\n",
    "        count = 0\n",
    "        rec = 0\n",
    "        if s == \"Best Customers\":\n",
    "            for j, row in segmented_rfmp.iterrows():\n",
    "                if row[\"RFMScore\"] in best:\n",
    "                    count += 1\n",
    "                    rec += row[\"recency\"]\n",
    "                    seg_cus_id[s].append(j)\n",
    "        if s == \"Loyal Customers\":\n",
    "            for j, row in segmented_rfmp.iterrows():\n",
    "                if row[\"RFMScore\"] in X1X_:\n",
    "                    count += 1\n",
    "                    rec += row[\"recency\"]\n",
    "                    seg_cus_id[s].append(j)\n",
    "        if s == \"Promissing\":\n",
    "            for j, row in segmented_rfmp.iterrows():\n",
    "                if row[\"RFMScore\"] in promiss:\n",
    "                    count += 1\n",
    "                    rec += row[\"recency\"]\n",
    "                    seg_cus_id[s].append(j)\n",
    "        if s == \"Big Spenders\":\n",
    "            for j, row in segmented_rfmp.iterrows():\n",
    "                if row[\"RFMScore\"] in XX1_:\n",
    "                    count += 1\n",
    "                    rec += row[\"recency\"]\n",
    "                    seg_cus_id[s].append(j)\n",
    "        if s == \"Almost Lost\":\n",
    "            for j, row in segmented_rfmp.iterrows():\n",
    "                if row[\"RFMScore\"] in almost_lost:\n",
    "                    count += 1\n",
    "                    rec += row[\"recency\"]\n",
    "                    seg_cus_id[s].append(j)\n",
    "        if s == \"Lost Customers\":\n",
    "            for j, row in segmented_rfmp.iterrows():\n",
    "                if row[\"RFMScore\"] in lost:\n",
    "                    count += 1\n",
    "                    rec += row[\"recency\"]\n",
    "                    seg_cus_id[s].append(j)\n",
    "        if s == \"Lost Cheap Customers\":\n",
    "            for j, row in segmented_rfmp.iterrows():\n",
    "                if row[\"RFMScore\"] in lost_cheap:\n",
    "                    count += 1\n",
    "                    rec += row[\"recency\"]\n",
    "                    seg_cus_id[s].append(j)\n",
    "        if s == \"Autres\":\n",
    "            for j, row in segmented_rfmp.iterrows():\n",
    "                if row[\"RFMScore\"] not in best and row[\"RFMScore\"] not in X1X_ \\\n",
    "                and row[\"RFMScore\"] not in XX1_ and row[\"RFMScore\"] not in promiss and \\\n",
    "                row[\"RFMScore\"] not in lost and row[\"RFMScore\"] not in almost_lost and \\\n",
    "                row[\"RFMScore\"] not in lost_cheap:\n",
    "                    count += 1\n",
    "                    rec += row[\"recency\"]\n",
    "                    seg_cus_id[s].append(j)\n",
    "                    \n",
    "        sums_.append(count)\n",
    "        recents_.append(int(rec/count))\n",
    "        \n",
    "    return (seg_cus_id,sums_)"
   ]
  },
  {
   "cell_type": "code",
   "execution_count": 27,
   "metadata": {},
   "outputs": [
    {
     "data": {
      "text/html": [
       "<div>\n",
       "<style scoped>\n",
       "    .dataframe tbody tr th:only-of-type {\n",
       "        vertical-align: middle;\n",
       "    }\n",
       "\n",
       "    .dataframe tbody tr th {\n",
       "        vertical-align: top;\n",
       "    }\n",
       "\n",
       "    .dataframe thead th {\n",
       "        text-align: right;\n",
       "    }\n",
       "</style>\n",
       "<table border=\"1\" class=\"dataframe\">\n",
       "  <thead>\n",
       "    <tr style=\"text-align: right;\">\n",
       "      <th></th>\n",
       "      <th>segment</th>\n",
       "      <th>nombre de clients</th>\n",
       "      <th>description</th>\n",
       "      <th>marketing</th>\n",
       "    </tr>\n",
       "  </thead>\n",
       "  <tbody>\n",
       "    <tr>\n",
       "      <th>0</th>\n",
       "      <td>Best Customers</td>\n",
       "      <td>505</td>\n",
       "      <td>Les clients qui ont acheté le plus récemment, le plus souvent                 et qui dépensent le plus.</td>\n",
       "      <td>Pas d'incitation aux prix, Nouveaux produits et programmes de fidélité</td>\n",
       "    </tr>\n",
       "    <tr>\n",
       "      <th>1</th>\n",
       "      <td>Loyal Customers</td>\n",
       "      <td>12407</td>\n",
       "      <td>Les clients ayant acheté le plus récemment</td>\n",
       "      <td>Vendre des produits de plus grande valeur. Demandez des commentaires. Engagez-les.</td>\n",
       "    </tr>\n",
       "    <tr>\n",
       "      <th>2</th>\n",
       "      <td>Promissing</td>\n",
       "      <td>23449</td>\n",
       "      <td>Des acheteurs récents, mais qui n'ont pas beaucoup dépensé</td>\n",
       "      <td>offrir des essais gratuits</td>\n",
       "    </tr>\n",
       "    <tr>\n",
       "      <th>3</th>\n",
       "      <td>Big Spenders</td>\n",
       "      <td>10739</td>\n",
       "      <td>Les clients qui dépensent le plus</td>\n",
       "      <td>Commercialisez vos produits les plus chers.</td>\n",
       "    </tr>\n",
       "    <tr>\n",
       "      <th>4</th>\n",
       "      <td>Almost Lost</td>\n",
       "      <td>11269</td>\n",
       "      <td>N'ont pas acheté depuis un certain temps, mais ont acheté fréquemment                 et ont dépensé le plus.</td>\n",
       "      <td>Offrez d'autres produits pertinents et des rabais spéciaux.</td>\n",
       "    </tr>\n",
       "    <tr>\n",
       "      <th>5</th>\n",
       "      <td>Lost Customers</td>\n",
       "      <td>22967</td>\n",
       "      <td>N'ont pas acheté depuis longtemps, mais ont acheté fréquemment                 et ont dépensé le plus.</td>\n",
       "      <td>Incitations à des prix agressifs</td>\n",
       "    </tr>\n",
       "    <tr>\n",
       "      <th>6</th>\n",
       "      <td>Lost Cheap Customers</td>\n",
       "      <td>12258</td>\n",
       "      <td>Dernier achat il y a longtemps, acheté peu et dépensé peu.</td>\n",
       "      <td>Ne passez pas trop de temps à essayer de vous ré-acquérir.</td>\n",
       "    </tr>\n",
       "    <tr>\n",
       "      <th>7</th>\n",
       "      <td>Autres</td>\n",
       "      <td>502</td>\n",
       "      <td></td>\n",
       "      <td>Ajuster les intervales pour le réduire si important</td>\n",
       "    </tr>\n",
       "  </tbody>\n",
       "</table>\n",
       "</div>"
      ],
      "text/plain": [
       "                segment  nombre de clients  \\\n",
       "0  Best Customers        505                 \n",
       "1  Loyal Customers       12407               \n",
       "2  Promissing            23449               \n",
       "3  Big Spenders          10739               \n",
       "4  Almost Lost           11269               \n",
       "5  Lost Customers        22967               \n",
       "6  Lost Cheap Customers  12258               \n",
       "7  Autres                502                 \n",
       "\n",
       "                                                                                                     description  \\\n",
       "0  Les clients qui ont acheté le plus récemment, le plus souvent                 et qui dépensent le plus.         \n",
       "1  Les clients ayant acheté le plus récemment                                                                      \n",
       "2  Des acheteurs récents, mais qui n'ont pas beaucoup dépensé                                                      \n",
       "3  Les clients qui dépensent le plus                                                                               \n",
       "4  N'ont pas acheté depuis un certain temps, mais ont acheté fréquemment                 et ont dépensé le plus.   \n",
       "5  N'ont pas acheté depuis longtemps, mais ont acheté fréquemment                 et ont dépensé le plus.          \n",
       "6  Dernier achat il y a longtemps, acheté peu et dépensé peu.                                                      \n",
       "7                                                                                                                  \n",
       "\n",
       "                                                                            marketing  \n",
       "0  Pas d'incitation aux prix, Nouveaux produits et programmes de fidélité              \n",
       "1  Vendre des produits de plus grande valeur. Demandez des commentaires. Engagez-les.  \n",
       "2  offrir des essais gratuits                                                          \n",
       "3  Commercialisez vos produits les plus chers.                                         \n",
       "4  Offrez d'autres produits pertinents et des rabais spéciaux.                         \n",
       "5  Incitations à des prix agressifs                                                    \n",
       "6  Ne passez pas trop de temps à essayer de vous ré-acquérir.                          \n",
       "7  Ajuster les intervales pour le réduire si important                                 "
      ]
     },
     "execution_count": 27,
     "metadata": {},
     "output_type": "execute_result"
    }
   ],
   "source": [
    "cus_id, customer_segment_[\"nombre de clients\"] = countCustomerSegment(segmented_rfm)\n",
    "customer_segment_[\"description\"] = description_\n",
    "customer_segment_[\"marketing\"] = marketing_\n",
    "\n",
    "#customer/segment\n",
    "customer_segment_"
   ]
  },
  {
   "cell_type": "code",
   "execution_count": 28,
   "metadata": {},
   "outputs": [
    {
     "data": {
      "text/plain": [
       "Text(0, 0.5, 'Nombre de clients par segments')"
      ]
     },
     "execution_count": 28,
     "metadata": {},
     "output_type": "execute_result"
    },
    {
     "data": {
      "image/png": "[encoded data removed]",
      "text/plain": [
       "<Figure size 1080x288 with 1 Axes>"
      ]
     },
     "metadata": {
      "needs_background": "light"
     },
     "output_type": "display_data"
    }
   ],
   "source": [
    "plt.figure(figsize=(15, 4))\n",
    "plt.bar(customer_segment_[\"segment\"], customer_segment_[\"nombre de clients\"], align='center',\n",
    "        color=[\"green\", \"lime\", \"#87ceeb\", \"yellow\", \"orange\", \"red\", \"#2F4F4F\", \"black\"]\n",
    "       )\n",
    "plt.xlabel('Segment')\n",
    "plt.ylabel('Nombre de clients par segments')"
   ]
  },
  {
   "cell_type": "code",
   "execution_count": 29,
   "metadata": {},
   "outputs": [
    {
     "data": {
      "image/png": "[encoded data removed]",
      "text/plain": [
       "<Figure size 432x288 with 1 Axes>"
      ]
     },
     "metadata": {
      "needs_background": "light"
     },
     "output_type": "display_data"
    }
   ],
   "source": [
    "fig, ax = plt.subplots() \n",
    "ax.barh(customer_segment_[\"segment\"].iloc[::-1] , recents_[::-1],\n",
    "        color=[\"black\", \"#2F4F4F\", \"red\", \"orange\", \"yellow\",\"#87ceeb\", \"lime\", \"green\"]\n",
    "       )\n",
    "plt.xlabel('Nombre moyen de jours recents')\n",
    "plt.ylabel('Segmentations')\n",
    "for i, v in enumerate(recents_[::-1]):\n",
    "    ax.text(v + 3, i + .0, str(v), color='blue')"
   ]
  },
  {
   "cell_type": "code",
   "execution_count": 30,
   "metadata": {},
   "outputs": [
    {
     "ename": "KeyboardInterrupt",
     "evalue": "",
     "output_type": "error",
     "traceback": [
      "\u001b[1;31m---------------------------------------------------------------------------\u001b[0m",
      "\u001b[1;31mKeyboardInterrupt\u001b[0m                         Traceback (most recent call last)",
      "\u001b[1;32m<ipython-input-30-8cb9c66f17bf>\u001b[0m in \u001b[0;36m<module>\u001b[1;34m\u001b[0m\n\u001b[0;32m      8\u001b[0m         \u001b[0msegments_labels\u001b[0m\u001b[1;33m.\u001b[0m\u001b[0mappend\u001b[0m\u001b[1;33m(\u001b[0m\u001b[1;34m\"Loyal Customers\"\u001b[0m\u001b[1;33m)\u001b[0m\u001b[1;33m\u001b[0m\u001b[1;33m\u001b[0m\u001b[0m\n\u001b[0;32m      9\u001b[0m         \u001b[1;32mcontinue\u001b[0m\u001b[1;33m\u001b[0m\u001b[1;33m\u001b[0m\u001b[0m\n\u001b[1;32m---> 10\u001b[1;33m     \u001b[1;32mif\u001b[0m \u001b[0mi\u001b[0m \u001b[1;32min\u001b[0m \u001b[0mcus_id\u001b[0m\u001b[1;33m[\u001b[0m\u001b[1;34m\"Promissing\"\u001b[0m\u001b[1;33m]\u001b[0m\u001b[1;33m:\u001b[0m\u001b[1;33m\u001b[0m\u001b[1;33m\u001b[0m\u001b[0m\n\u001b[0m\u001b[0;32m     11\u001b[0m         \u001b[0msegments_labels\u001b[0m\u001b[1;33m.\u001b[0m\u001b[0mappend\u001b[0m\u001b[1;33m(\u001b[0m\u001b[1;34m\"Promissing\"\u001b[0m\u001b[1;33m)\u001b[0m\u001b[1;33m\u001b[0m\u001b[1;33m\u001b[0m\u001b[0m\n\u001b[0;32m     12\u001b[0m         \u001b[1;32mcontinue\u001b[0m\u001b[1;33m\u001b[0m\u001b[1;33m\u001b[0m\u001b[0m\n",
      "\u001b[1;31mKeyboardInterrupt\u001b[0m: "
     ]
    }
   ],
   "source": [
    "XRFM = segmented_rfm[[\"recency\", \"frequency\", \"monetary_value\"]].copy()\n",
    "segments_labels = []\n",
    "for i, row in XRFM.iterrows():\n",
    "    if i in cus_id[\"Best Customers\"]:\n",
    "        segments_labels.append(\"Best Customers\")\n",
    "        continue\n",
    "    if i in cus_id[\"Loyal Customers\"]:\n",
    "        segments_labels.append(\"Loyal Customers\")\n",
    "        continue\n",
    "    if i in cus_id[\"Promissing\"]:\n",
    "        segments_labels.append(\"Promissing\")\n",
    "        continue\n",
    "    if i in cus_id[\"Big Spenders\"]:\n",
    "        segments_labels.append(\"Big Spenders\")\n",
    "        continue\n",
    "    if i in cus_id[\"Almost Lost\"]:\n",
    "        segments_labels.append(\"Almost Lost\")\n",
    "        continue\n",
    "    if i in cus_id[\"Lost Customers\"]:\n",
    "        segments_labels.append(\"Lost Customers\")\n",
    "        continue\n",
    "    if i in cus_id[\"Lost Cheap Customers\"]:\n",
    "        segments_labels.append(\"Lost Cheap Customers\")\n",
    "        continue\n",
    "    if i in cus_id[\"Autres\"]:\n",
    "        segments_labels.append(\"Autres\")\n",
    "        continue"
   ]
  },
  {
   "cell_type": "code",
   "execution_count": null,
   "metadata": {},
   "outputs": [],
   "source": [
    "relative_imp_sort = pd.DataFrame()\n",
    "XRFM[\"segment_appartenance\"] = segments_labels\n",
    "\n",
    "population = segmented_rfm[[\"recency\", \"frequency\", \"monetary_value\"]].copy()\n",
    "population_avg = population.mean()\n",
    "\n",
    "cluster_avg = XRFM.groupby(['segment_appartenance']).mean()\n",
    "relative_imp = cluster_avg / population_avg - 1\n",
    "\n",
    "relative_imp_sort[\"Best Customers\"] = relative_imp.loc[\"Best Customers\"]\n",
    "relative_imp_sort[\"Loyal Customers\"] = relative_imp.loc[\"Loyal Customers\"]\n",
    "relative_imp_sort[\"Promissing\"] = relative_imp.loc[\"Promissing\"]\n",
    "relative_imp_sort[\"Big Spenders\"] = relative_imp.loc[\"Big Spenders\"]\n",
    "relative_imp_sort[\"Almost Lost\"] = relative_imp.loc[\"Almost Lost\"]\n",
    "relative_imp_sort[\"Lost Customers\"] = relative_imp.loc[\"Lost Customers\"]\n",
    "relative_imp_sort[\"Lost Cheap Customers\"] = relative_imp.loc[\"Lost Cheap Customers\"]\n",
    "relative_imp_sort[\"Autres\"] = relative_imp.loc[\"Autres\"]\n",
    "\n",
    "plt.figure(figsize=(8, 4))\n",
    "ax = sns.heatmap(data=relative_imp_sort.T, annot=True, fmt='.2f', cmap='RdYlGn')\n",
    "ax.set_ylim(len(relative_imp), 0)\n",
    "plt.title('Importance relative des attributs')\n",
    "plt.show()"
   ]
  },
  {
   "cell_type": "code",
   "execution_count": null,
   "metadata": {},
   "outputs": [],
   "source": [
    "# Maintenance"
   ]
  },
  {
   "cell_type": "code",
   "execution_count": null,
   "metadata": {},
   "outputs": [],
   "source": [
    "# Retrieve the last three months\n",
    "past = {}\n",
    "for i in range(0, 4):\n",
    "    past[i] = dt.datetime(int(aammjj[0]), int(aammjj[1])-i, int(aammjj[2]))\n",
    "past"
   ]
  },
  {
   "cell_type": "code",
   "execution_count": null,
   "metadata": {},
   "outputs": [],
   "source": [
    "customerPast = donnees[donnees[\"order_purchase_timestamp\"] < past[3]]\n",
    "customer_retain = customerPast[\"customer_unique_id\"].unique()"
   ]
  },
  {
   "cell_type": "code",
   "execution_count": null,
   "metadata": {},
   "outputs": [],
   "source": [
    "dist = {}\n",
    "cus_id_list = {}\n",
    "dict_rfmTable = {}\n",
    "for i in range(0, 4):\n",
    "    customerPast = donnees[donnees[\"order_purchase_timestamp\"] < past[i]]\n",
    "    customerPast = customerPast[customerPast[\"customer_unique_id\"].isin(list(customer_retain))]\n",
    "    rfmTablePast = customerPast.groupby('customer_unique_id').\\\n",
    "                    agg({\"order_purchase_timestamp\": lambda x: (past[i] - x.max()).days,\n",
    "                         \"customer_unique_id\": lambda x: len(x), \"price\": lambda x: sum(x)\n",
    "                        })\n",
    "\n",
    "    rfmTablePast['order_purchase_timestamp'] = rfmTablePast['order_purchase_timestamp'].astype(int)\n",
    "    rfmTablePast.rename(columns={'order_purchase_timestamp': 'recency',\n",
    "                                 'customer_unique_id': 'frequency',\n",
    "                                 'price': 'monetary_value'\n",
    "                                },inplace=True\n",
    "                       )\n",
    "    \n",
    "    quartilesPast = rfmTablePast.quantile(q=[0.25, 0.5, 0.75])\n",
    "    quartilesPast = quartilesPast.to_dict()  #Transformation dataframe en dictionnaire\n",
    "\n",
    "    rfmTablePast['r_quartile'] = rfmTablePast['recency'].apply(RScore,\n",
    "                                                               args=('recency',quartilesPast))\n",
    "    rfmTablePast['f_quartile'] = rfmTablePast['frequency'].apply(FMScore,\n",
    "                                                                 args=('frequency',quartilesPast))\n",
    "    rfmTablePast['m_quartile'] = rfmTablePast['monetary_value']. \\\n",
    "                                    apply(FMScore, args=('monetary_value',quartilesPast))\n",
    "\n",
    "    rfmTablePast['RFMScore'] = (rfmTablePast[\"r_quartile\"].astype(str) + \"-\"). \\\n",
    "                                str.cat(rfmTablePast[\"f_quartile\"].astype(str) + \"-\"). \\\n",
    "                                str.cat(rfmTablePast[\"m_quartile\"].astype(str))\n",
    "    \n",
    "    cus_id_list[i], dist[i] = countCustomerSegment(rfmTablePast)\n",
    "    dict_rfmTable[i] = rfmTablePast.copy()\n",
    "dist"
   ]
  },
  {
   "cell_type": "code",
   "execution_count": null,
   "metadata": {},
   "outputs": [],
   "source": [
    "# Construct matching indices between source and target\n",
    "s = []\n",
    "t = []\n",
    "for i in range(0, 24):\n",
    "    for j in range(0, 8):\n",
    "        s.append(i)\n",
    "    if i in range(0, 8):\n",
    "        for k in range(8, 16):\n",
    "            t.append(k)\n",
    "    if i in range(8, 16):\n",
    "        for k in range(16, 24):\n",
    "            t.append(k)\n",
    "    if i in range(16, 24):\n",
    "        for k in range(24, 32):\n",
    "            t.append(k)"
   ]
  },
  {
   "cell_type": "code",
   "execution_count": null,
   "metadata": {},
   "outputs": [],
   "source": [
    "# Construct the values between the sources and the targets\n",
    "v = []\n",
    "m_v = {}\n",
    "for i in range(3, 0, -1):\n",
    "    m = []\n",
    "    for j in range(0, 8):\n",
    "        line = []\n",
    "        for k in range(0, 8):\n",
    "            nb_int = len(set(cus_id_list[i][segment_[j]]) & set(cus_id_list[i-1][segment_[k]]))\n",
    "            v.append(nb_int)\n",
    "            line.append(nb_int)\n",
    "        m.append(line)\n",
    "    m_v[i] = m"
   ]
  },
  {
   "cell_type": "code",
   "execution_count": null,
   "metadata": {},
   "outputs": [],
   "source": [
    "# Set up labels and colors\n",
    "ls = []\n",
    "c = []\n",
    "labels_set = [\"Best Customers\", \"Loyal Customers\", \"Promissing\", \"Big Spenders\",\n",
    "              \"Almost Lost\", \"Lost Customers\", \"Lost Cheap Customers\", \"Autres\"]\n",
    "colors_set = [\"green\", \"lime\", \"#87ceeb\", \"yellow\", \"orange\", \"red\", \"#2F4F4F\", \"black\"]\n",
    "\n",
    "for i in range(1, 5):\n",
    "    for j in range(0, 8):\n",
    "        ls.append(labels_set[j] + str(i))\n",
    "        c.append(colors_set[j])"
   ]
  },
  {
   "cell_type": "code",
   "execution_count": null,
   "metadata": {},
   "outputs": [],
   "source": [
    "# Display Sankey diagram\n",
    "fig = go.Figure(data=[go.Sankey(\n",
    "    node = dict(\n",
    "      pad = 15,\n",
    "      thickness = 20,\n",
    "      line = dict(color = \"black\", width = 0.5),\n",
    "      label = ls,  \n",
    "      color = c\n",
    "    ),\n",
    "    link = dict(\n",
    "      source = s,\n",
    "      target = t,\n",
    "      value = v\n",
    "  ))])\n",
    "\n",
    "fig.update_layout(title_text=\"Diagramme de flux de clients entre segments\", font_size=10)\n",
    "fig.show()"
   ]
  },
  {
   "cell_type": "code",
   "execution_count": null,
   "metadata": {},
   "outputs": [],
   "source": [
    "values1 = pd.DataFrame(m_v[3])  # (2018, 6, 3, 0, 0) to (2018, 7, 3, 0, 0)\n",
    "values1 = values1.rename(index={0: \"Best Customers (2018, 6, 3)\", 1: \"Loyal Customers (2018, 6, 3)\",\n",
    "                                2: \"Promissing (2018, 6, 3)\", 3: \"Big Spenders (2018, 6, 3)\",\n",
    "                                4: \"Almost Lost (2018, 6, 3)\", 5: \"Lost Customers (2018, 6, 3)\",\n",
    "                                6: \"Lost Cheap (2018, 6, 3)\", 7: \"Autres (2018, 6, 3)\"\n",
    "                               },\n",
    "                         columns={0: \"Best Customers (2018, 7, 3)\", 1: \"Loyal Customers (2018, 7, 3)\",\n",
    "                                  2: \"Promissing (2018, 7, 3)\", 3: \"Big Spenders (2018, 7, 3)\",\n",
    "                                  4: \"Almost Lost (2018, 7, 3)\", 5: \"Lost Customers (2018, 7, 3)\",\n",
    "                                  6: \"Lost Cheap (2018, 7, 3)\", 7: \"Autres (2018, 7, 3)\"\n",
    "                               }\n",
    "                        )\n",
    "values1"
   ]
  },
  {
   "cell_type": "code",
   "execution_count": null,
   "metadata": {},
   "outputs": [],
   "source": [
    "values2 = pd.DataFrame(m_v[2])  # (2018, 7, 3, 0, 0) to (2018, 8, 3, 0, 0)\n",
    "values2 = values2.rename(index={0: \"Best Customers (2018, 7, 3)\", 1: \"Loyal Customers (2018, 7, 3)\",\n",
    "                                  2: \"Promissing (2018, 7, 3)\", 3: \"Big Spenders (2018, 7, 3)\",\n",
    "                                  4: \"Almost Lost (2018, 7, 3)\", 5: \"Lost Customers (2018, 7, 3)\",\n",
    "                                  6: \"Lost Cheap (2018, 7, 3)\", 7: \"Autres (2018, 7, 3)\"\n",
    "                               },\n",
    "                         columns={0: \"Best Customers (2018, 8, 3)\", 1: \"Loyal Customers (2018, 8, 3)\",\n",
    "                                  2: \"Promissing (2018, 8, 3)\", 3: \"Big Spenders (2018, 8, 3)\",\n",
    "                                  4: \"Almost Lost (2018, 8, 3)\", 5: \"Lost Customers (2018, 8, 3)\",\n",
    "                                  6: \"Lost Cheap (2018, 8, 3)\", 7: \"Autres (2018, 8, 3)\"\n",
    "                               }\n",
    "                        )\n",
    "values2"
   ]
  },
  {
   "cell_type": "code",
   "execution_count": null,
   "metadata": {},
   "outputs": [],
   "source": [
    "values3 = pd.DataFrame(m_v[1])  # (2018, 8, 3, 0, 0) to (2018, 9, 3, 0, 0)\n",
    "values3 = values3.rename(index={0: \"Best Customers (2018, 8, 3)\", 1: \"Loyal Customers (2018, 8, 3)\",\n",
    "                                2: \"Promissing (2018, 8, 3)\", 3: \"Big Spenders (2018, 8, 3)\",\n",
    "                                4: \"Almost Lost (2018, 8, 3)\", 5: \"Lost Customers (2018, 8, 3)\",\n",
    "                                6: \"Lost Cheap (2018, 8, 3)\", 7: \"Autres (2018, 8, 3)\"\n",
    "                               },\n",
    "                         columns={0: \"Best Customers (2018, 9, 3)\", 1: \"Loyal Customers (2018, 9, 3)\",\n",
    "                                  2: \"Promissing (2018, 9, 3)\", 3: \"Big Spenders (2018, 9, 3)\",\n",
    "                                  4: \"Almost Lost (2018, 9, 3)\", 5: \"Lost Customers (2018, 9, 3)\",\n",
    "                                  6: \"Lost Cheap (2018, 9, 3)\", 7: \"Autres (2018, 9, 3)\"\n",
    "                               }\n",
    "                        )\n",
    "values3"
   ]
  },
  {
   "cell_type": "code",
   "execution_count": null,
   "metadata": {},
   "outputs": [],
   "source": [
    "for i in range(1, 0, -1):  # Last month: (2018, 8, 3, 0, 0) to (2018, 9, 3, 0, 0)\n",
    "    id_list = []\n",
    "    for j in range(0, 1):  # Best Customers, Loyal Customers\n",
    "        for k in range(4, 7):  # Almost Lost, Lost Customers, Lost Cheap Customers\n",
    "            temp = list(set(cus_id_list[i][segment_[k]]) & set(cus_id_list[i-1][segment_[j]]))\n",
    "            for m in temp:\n",
    "                id_list.append(m)  \n",
    "    df1 = dict_rfmTable[i][[\"recency\", \"frequency\", \"monetary_value\", \"RFMScore\"]].loc[id_list]\n",
    "    df1 = df1.rename(columns={\"recency\": \"recency (2018, 8, 3)\", \"frequency\": \"frequency (2018, 8, 3)\",\n",
    "                              \"monetary_value\": \"monetary_value (2018, 8, 3)\",\n",
    "                              \"RFMScore\": \"RFMScore (2018, 8, 3)\"\n",
    "                             }\n",
    "                    )\n",
    "    df2 = dict_rfmTable[i-1][[\"recency\", \"frequency\", \"monetary_value\", \"RFMScore\"]].loc[id_list]\n",
    "    df2 = df2.rename(columns={\"recency\": \"recency (2018, 9, 3)\", \"frequency\": \"frequency (2018, 9, 3)\",\n",
    "                              \"monetary_value\": \"monetary_value (2018, 9, 3)\",\n",
    "                              \"RFMScore\": \"RFMScore (2018, 9, 3)\"\n",
    "                             }\n",
    "                    )\n",
    "    \n",
    "    df = pd.concat([df1, df2], axis=1, sort=False)"
   ]
  },
  {
   "cell_type": "code",
   "execution_count": null,
   "metadata": {},
   "outputs": [],
   "source": [
    "df"
   ]
  },
  {
   "cell_type": "code",
   "execution_count": null,
   "metadata": {},
   "outputs": [],
   "source": [
    "# KModes algorithm"
   ]
  },
  {
   "cell_type": "code",
   "execution_count": null,
   "metadata": {},
   "outputs": [],
   "source": [
    "# One Hot encoding\n",
    "grouped = donnees[['customer_unique_id', 'product_category_name']].\\\n",
    "    groupby('customer_unique_id')"
   ]
  },
  {
   "cell_type": "code",
   "execution_count": null,
   "metadata": {},
   "outputs": [],
   "source": [
    "cus_prod = {}\n",
    "for name, group in grouped:\n",
    "    cus_prod[name] = list(set(group[\"product_category_name\"].values))"
   ]
  },
  {
   "cell_type": "code",
   "execution_count": null,
   "metadata": {},
   "outputs": [],
   "source": [
    "cus_prod"
   ]
  },
  {
   "cell_type": "code",
   "execution_count": null,
   "metadata": {},
   "outputs": [],
   "source": [
    "colname_indice = {}\n",
    "i = 0\n",
    "for cat in donnees[\"product_category_name\"].unique():\n",
    "    colname_indice[cat] = i\n",
    "    i += 1"
   ]
  },
  {
   "cell_type": "code",
   "execution_count": null,
   "metadata": {},
   "outputs": [],
   "source": [
    "OH_cols = pd.DataFrame(columns=list(donnees[\"product_category_name\"].unique()))\n",
    "OH_cols"
   ]
  },
  {
   "cell_type": "code",
   "execution_count": null,
   "metadata": {},
   "outputs": [],
   "source": [
    "for k, v in cus_prod.items():\n",
    "    row = [0]*OH_cols.shape[1]\n",
    "    for cat in v:\n",
    "        row[colname_indice[cat]] = 1\n",
    "    OH_cols.loc[k] = row"
   ]
  },
  {
   "cell_type": "code",
   "execution_count": null,
   "metadata": {},
   "outputs": [],
   "source": [
    "OH_cols.head()"
   ]
  },
  {
   "cell_type": "code",
   "execution_count": null,
   "metadata": {},
   "outputs": [],
   "source": [
    "# Search for the optimal hyperparameter k\n",
    "sum_distances = []\n",
    "K = range(1,15)\n",
    "for k in K:\n",
    "    km = KModes(n_clusters=k, init='random')\n",
    "    km.fit_predict(OH_cols)\n",
    "    sum_distances.append(km.cost_)\n",
    "kk = sum_distances.index(min(sum_distances)) + 1\n",
    "\n",
    "print(\"le nombre de clusters optimal est : {}\".format(kk))\n",
    "\n",
    "plt.plot(K, sum_distances, 'ro-')\n",
    "plt.xlabel('k')\n",
    "plt.ylabel('sum_distances')\n",
    "plt.title('Recherche le nombre de clusters k optimal')\n",
    "\n",
    "plt.show()"
   ]
  },
  {
   "cell_type": "code",
   "execution_count": null,
   "metadata": {},
   "outputs": [],
   "source": [
    "# Group related categories\n",
    "km = KModes(n_clusters=kk, init='random', n_init=kk+1)\n",
    "km.fit_predict(OH_cols)\n",
    "kmodes = km.cluster_centroids_\n",
    "shape = kmodes.shape\n",
    "for i in range(shape[0]):\n",
    "    if sum(kmodes[i,:]) == 0:\n",
    "        print(\"\\ncluster \" + str(i) + \": \")\n",
    "        print(\"cluster sans catégorie\")\n",
    "    else:\n",
    "        print(\"\\ncluster \" + str(i) + \": \")\n",
    "        cent = kmodes[i,:]\n",
    "        for j in OH_cols.columns[np.nonzero(cent)]:\n",
    "            print(j)"
   ]
  },
  {
   "cell_type": "code",
   "execution_count": null,
   "metadata": {},
   "outputs": [],
   "source": [
    "donnees[\"product_category_name\"].value_counts()[:20]"
   ]
  },
  {
   "cell_type": "code",
   "execution_count": null,
   "metadata": {},
   "outputs": [],
   "source": [
    "x = []\n",
    "y = []\n",
    "for i in range(0, kk):\n",
    "    x.append(\"C \" + str(i))\n",
    "    y.append(np.sum(km.labels_== i))\n",
    "    \n",
    "plt.xlabel('Clusters')\n",
    "plt.ylabel('Nombre de clients')\n",
    "plt.bar(x, y)"
   ]
  },
  {
   "cell_type": "code",
   "execution_count": null,
   "metadata": {},
   "outputs": [],
   "source": [
    "# K-means algorithm"
   ]
  },
  {
   "cell_type": "markdown",
   "metadata": {},
   "source": [
    "```\n",
    "Fusion feature : product_category_name, R, F, M\n",
    "```"
   ]
  },
  {
   "cell_type": "code",
   "execution_count": null,
   "metadata": {},
   "outputs": [],
   "source": [
    "X = pd.concat([rfmTable, OH_cols], axis=1)"
   ]
  },
  {
   "cell_type": "code",
   "execution_count": null,
   "metadata": {},
   "outputs": [],
   "source": [
    "X.shape"
   ]
  },
  {
   "cell_type": "markdown",
   "metadata": {},
   "source": [
    "```\n",
    "Add number of products bought\n",
    "```"
   ]
  },
  {
   "cell_type": "code",
   "execution_count": null,
   "metadata": {},
   "outputs": [],
   "source": [
    "nb_prod_by_cus = donnees[[\"customer_unique_id\", \"order_id\"]].\\\n",
    "    groupby('customer_unique_id').count()\n",
    "\n",
    "nb_prod_by_cus = nb_prod_by_cus.rename(columns={\"order_id\": \"nb_prod_by_cus\"})"
   ]
  },
  {
   "cell_type": "code",
   "execution_count": null,
   "metadata": {},
   "outputs": [],
   "source": [
    "X = pd.concat([X, nb_prod_by_cus], axis=1)"
   ]
  },
  {
   "cell_type": "code",
   "execution_count": null,
   "metadata": {},
   "outputs": [],
   "source": [
    "X.head()"
   ]
  },
  {
   "cell_type": "markdown",
   "metadata": {},
   "source": [
    "```\n",
    "Add mean score\n",
    "```"
   ]
  },
  {
   "cell_type": "code",
   "execution_count": null,
   "metadata": {},
   "outputs": [],
   "source": [
    "mean_score = donnees[['customer_unique_id', 'review_score']].\\\n",
    "    groupby('customer_unique_id').mean()\n",
    "\n",
    "mean_score = mean_score.rename(columns={\"review_score\": \"mean_score\"})"
   ]
  },
  {
   "cell_type": "code",
   "execution_count": null,
   "metadata": {},
   "outputs": [],
   "source": [
    "mean_score"
   ]
  },
  {
   "cell_type": "code",
   "execution_count": null,
   "metadata": {},
   "outputs": [],
   "source": [
    "X = pd.concat([X, mean_score], axis=1)"
   ]
  },
  {
   "cell_type": "code",
   "execution_count": null,
   "metadata": {},
   "outputs": [],
   "source": [
    "X.head()"
   ]
  },
  {
   "cell_type": "markdown",
   "metadata": {},
   "source": [
    "```\n",
    "Add One Hot state\n",
    "```"
   ]
  },
  {
   "cell_type": "code",
   "execution_count": null,
   "metadata": {},
   "outputs": [],
   "source": [
    "grouped = donnees[['customer_unique_id', 'customer_state']].\\\n",
    "    groupby('customer_unique_id')"
   ]
  },
  {
   "cell_type": "code",
   "execution_count": null,
   "metadata": {},
   "outputs": [],
   "source": [
    "state_cus = {}\n",
    "for name, group in grouped:\n",
    "    state_cus[name] = list(set(group[\"customer_state\"].values))"
   ]
  },
  {
   "cell_type": "code",
   "execution_count": null,
   "metadata": {},
   "outputs": [],
   "source": [
    "state_cus"
   ]
  },
  {
   "cell_type": "code",
   "execution_count": null,
   "metadata": {},
   "outputs": [],
   "source": [
    "colstate_indice = {}\n",
    "i = 0\n",
    "for state in donnees[\"customer_state\"].unique():\n",
    "    colstate_indice[state] = i\n",
    "    i += 1"
   ]
  },
  {
   "cell_type": "code",
   "execution_count": null,
   "metadata": {},
   "outputs": [],
   "source": [
    "OH_cols = pd.DataFrame(columns=list(donnees[\"customer_state\"].unique()))\n",
    "OH_cols"
   ]
  },
  {
   "cell_type": "code",
   "execution_count": null,
   "metadata": {},
   "outputs": [],
   "source": [
    "for k, v in state_cus.items():\n",
    "    row = [0]*OH_cols.shape[1]\n",
    "    for state in v:\n",
    "        row[colstate_indice[state]] = 1\n",
    "    OH_cols.loc[k] = row"
   ]
  },
  {
   "cell_type": "code",
   "execution_count": null,
   "metadata": {},
   "outputs": [],
   "source": [
    "OH_cols.head()"
   ]
  },
  {
   "cell_type": "code",
   "execution_count": null,
   "metadata": {},
   "outputs": [],
   "source": [
    "X = pd.concat([X, OH_cols], axis=1)"
   ]
  },
  {
   "cell_type": "markdown",
   "metadata": {},
   "source": [
    "```\n",
    "Add density population of state\n",
    "```"
   ]
  },
  {
   "cell_type": "code",
   "execution_count": null,
   "metadata": {},
   "outputs": [],
   "source": [
    "cus_state_nunique = dict(donnees[\"customer_state\"].value_counts())"
   ]
  },
  {
   "cell_type": "code",
   "execution_count": null,
   "metadata": {},
   "outputs": [],
   "source": [
    "col_state_count = []\n",
    "for k, v in state_cus.items():\n",
    "    col_state_count.append(cus_state_nunique[v[0]])"
   ]
  },
  {
   "cell_type": "code",
   "execution_count": null,
   "metadata": {},
   "outputs": [],
   "source": [
    "X[\"nb_cus_by_state\"] = col_state_count"
   ]
  },
  {
   "cell_type": "code",
   "execution_count": null,
   "metadata": {},
   "outputs": [],
   "source": [
    "X.head()"
   ]
  },
  {
   "cell_type": "code",
   "execution_count": null,
   "metadata": {},
   "outputs": [],
   "source": [
    "for f in X.columns:\n",
    "    X[f] = X[f].astype(float)"
   ]
  },
  {
   "cell_type": "code",
   "execution_count": null,
   "metadata": {},
   "outputs": [],
   "source": [
    "X[\"monetary_value\"] = np.log1p(X[\"monetary_value\"])"
   ]
  },
  {
   "cell_type": "code",
   "execution_count": null,
   "metadata": {},
   "outputs": [],
   "source": [
    "# To scale the features \n",
    "X_scale = preprocessing.StandardScaler().fit_transform(X)"
   ]
  },
  {
   "cell_type": "code",
   "execution_count": null,
   "metadata": {},
   "outputs": [],
   "source": [
    "X_scale = pd.DataFrame(X_scale, index=list(X.index), columns=X.columns)"
   ]
  },
  {
   "cell_type": "markdown",
   "metadata": {},
   "source": [
    "# Dimensionality Reduction"
   ]
  },
  {
   "cell_type": "code",
   "execution_count": null,
   "metadata": {},
   "outputs": [],
   "source": [
    "pca = PCA().fit(X_scale)"
   ]
  },
  {
   "cell_type": "code",
   "execution_count": null,
   "metadata": {},
   "outputs": [],
   "source": [
    "pca"
   ]
  },
  {
   "cell_type": "code",
   "execution_count": null,
   "metadata": {},
   "outputs": [],
   "source": [
    "components_total = len(pca.explained_variance_ratio_)\n",
    "components_total"
   ]
  },
  {
   "cell_type": "code",
   "execution_count": null,
   "metadata": {},
   "outputs": [],
   "source": [
    "components = np.arange(components_total)"
   ]
  },
  {
   "cell_type": "code",
   "execution_count": null,
   "metadata": {},
   "outputs": [],
   "source": [
    "# Investigate the variance accounted for by each principal component.\n",
    "fig, ax1 = plt.subplots(figsize=(12, 6))\n",
    "\n",
    "ax1.bar(components, pca.explained_variance_ratio_)\n",
    "ax1.set_ylabel('Explained Variance', color=\"blue\")\n",
    "ax1.set_xlabel('Number of Components')\n",
    "\n",
    "ax2 = ax1.twinx()\n",
    "ax2.plot(np.cumsum(pca.explained_variance_ratio_), color=\"red\", marker='o')\n",
    "ax2.set_ylabel('Cumulative Explained Variance', color=\"red\")\n",
    "\n",
    "plt.title(\"Cumulative Explained Variance vs No. of Principal Components\")"
   ]
  },
  {
   "cell_type": "code",
   "execution_count": null,
   "metadata": {},
   "outputs": [],
   "source": [
    "pca_50 = PCA(n_components=50).fit(X_scale)"
   ]
  },
  {
   "cell_type": "code",
   "execution_count": null,
   "metadata": {},
   "outputs": [],
   "source": [
    "pca_50.explained_variance_ratio_.sum()"
   ]
  },
  {
   "cell_type": "markdown",
   "metadata": {},
   "source": [
    "# Interpret Principal Components"
   ]
  },
  {
   "cell_type": "code",
   "execution_count": null,
   "metadata": {},
   "outputs": [],
   "source": [
    "def get_cpn_feat_wgt(pca, x_scale, cpn_num):\n",
    "    '''\n",
    "    Give feature weight of n-th component of pca object\n",
    "    '''\n",
    "    weights = pd.DataFrame(np.round(pca.components_, 4),\n",
    "                           columns=x_scale.columns)\n",
    "    weight_n = weights.iloc[cpn_num-1, :].sort_values()\n",
    "    weight_n = weight_n.to_frame()\n",
    "    weight_n.reset_index(level=0, inplace=True)\n",
    "    weight_n.columns = ['colname', 'weight']\n",
    "    return weight_n"
   ]
  },
  {
   "cell_type": "code",
   "execution_count": null,
   "metadata": {},
   "outputs": [],
   "source": [
    "def get_top_feature(cpn_feat_wgt, n=5):\n",
    "    tail_n = cpn_feat_wgt.head(n).reset_index(drop=True)\n",
    "    head_n = cpn_feat_wgt.tail(n).\\\n",
    "        sort_values(by='weight', ascending=False).reset_index(drop=True)\n",
    "    top_n = pd.concat([head_n, tail_n], axis=1)\n",
    "    top_n.columns = ['top_pos_col', 'top_pos_col_wgt',\n",
    "                     'top_neg_col', 'top_neg_col_wgt']\n",
    "    return top_n"
   ]
  },
  {
   "cell_type": "code",
   "execution_count": null,
   "metadata": {},
   "outputs": [],
   "source": [
    "cpn_wgt_1st = get_cpn_feat_wgt(pca_50, X_scale, 1)\n",
    "get_top_feature(cpn_wgt_1st, 5).style.\\\n",
    "    bar(subset=['top_pos_col_wgt', 'top_neg_col_wgt'],\n",
    "        align='mid', color=['#d65f5f', '#5fba7d'])"
   ]
  },
  {
   "cell_type": "code",
   "execution_count": null,
   "metadata": {},
   "outputs": [],
   "source": [
    "X_pca_50 = pca_50.transform(X_scale)"
   ]
  },
  {
   "cell_type": "code",
   "execution_count": null,
   "metadata": {},
   "outputs": [],
   "source": [
    "X_pca_50"
   ]
  },
  {
   "cell_type": "code",
   "execution_count": null,
   "metadata": {},
   "outputs": [],
   "source": [
    "X_red = pd.concat([X_scale[[\"recency\", \"frequency\", \"monetary_value\", 'nb_prod_by_cus', 'nb_cus_by_state']],\n",
    "                   X_scale.loc[:, 'SP':'AC']], axis=1)"
   ]
  },
  {
   "cell_type": "code",
   "execution_count": null,
   "metadata": {},
   "outputs": [],
   "source": [
    "X_red"
   ]
  },
  {
   "cell_type": "code",
   "execution_count": null,
   "metadata": {},
   "outputs": [],
   "source": [
    "# Search for the optimal hyperparameter k\n",
    "silhouettes = []\n",
    "sum_mean_square_distances = []\n",
    "interval = range(5, 16)\n",
    "for num_clusters in interval:\n",
    "    print(num_clusters)\n",
    "    cls = KMeans(n_clusters=num_clusters)\n",
    "    cls.fit(X_red)\n",
    "    X1 = X_red.copy()\n",
    "    X1[\"cluster_appartenance\"] = cls.labels_\n",
    "    stats1 = X1.groupby('cluster_appartenance')[['recency', \"frequency\", \"monetary_value\"]].agg([np.mean])\n",
    "    print(stats1)\n",
    "    print(\"\")\n",
    "    score = metrics.silhouette_score(X_red, cls.labels_)\n",
    "    silhouettes.append(score)\n",
    "n_clusters = silhouettes.index(max(silhouettes)) + min(interval)\n",
    "\n",
    "print(\"Le nombre de clusters optimal est : {}\".format(n_clusters))\n",
    "print(\"La valeur de la silhouette est de : {}\".format(max(silhouettes)))\n",
    "\n",
    "plt.plot(interval, silhouettes, marker=\"o\")"
   ]
  },
  {
   "cell_type": "code",
   "execution_count": null,
   "metadata": {},
   "outputs": [],
   "source": [
    "pca = PCA(n_components=2).fit(X_scale)\n",
    "reduced_data = pca.transform(X_scale)\n",
    "print(\"Valeur expliquée par les deux premières composantes : %.3f\" \\\n",
    "      % pca.explained_variance_ratio_.cumsum()[1])\n",
    "\n",
    "fig, (ax1, ax2) = plt.subplots(1, 2)\n",
    "fig.set_size_inches(18, 7)\n",
    "ax1.set_xlim([-1, 1])\n",
    "\n",
    "# The (n_clusters+1)*10 is for inserting blank space between silhouette\n",
    "# Plots of individual clusters, to demarcate them clearly.\n",
    "ax1.set_ylim([0, len(reduced_data) + (n_clusters + 1) * 10])\n",
    "\n",
    "clusterer = KMeans(n_clusters=n_clusters, init=\"random\")\n",
    "cluster_labels = clusterer.fit_predict(reduced_data)\n",
    "\n",
    "# The silhouette_score gives the average value for all the samples.\n",
    "silhouette_avg = metrics.silhouette_score(reduced_data, cluster_labels)\n",
    "print(\"Pour n_clusters =\", n_clusters, \", Le score de la silhouette moyenne est :\", silhouette_avg)\n",
    "\n",
    "# Compute the silhouette scores for each sample\n",
    "sample_silhouette_values = metrics.silhouette_samples(reduced_data, cluster_labels)\n",
    "\n",
    "y_lower = 10\n",
    "for i in range(n_clusters):\n",
    "    # Aggregate the silhouette scores for samples belonging to\n",
    "    # luster i, and sort them\n",
    "    ith_cluster_silhouette_values = sample_silhouette_values[cluster_labels == i]\n",
    "    ith_cluster_silhouette_values.sort()\n",
    "\n",
    "    size_cluster_i = ith_cluster_silhouette_values.shape[0]\n",
    "    y_upper = y_lower + size_cluster_i\n",
    "\n",
    "    color = cm.nipy_spectral(float(i) / n_clusters)\n",
    "    ax1.fill_betweenx(np.arange(y_lower, y_upper),0, ith_cluster_silhouette_values,\n",
    "                      facecolor=color, edgecolor=color, alpha=0.7)\n",
    "    \n",
    "    # Label the silhouette plots with their cluster numbers at the middle\n",
    "    ax1.text(-0.05, y_lower + 0.5 * size_cluster_i, str(i))\n",
    "\n",
    "    # Compute the new y_lower for next plot\n",
    "    y_lower = y_upper + 10  # 10 for the 0 samples\n",
    "    \n",
    "ax1.set_title(\"Silhouette graphique pour les différents clusters\")\n",
    "ax1.set_xlabel(\"Valeurs des coefficients de silhouette\")\n",
    "ax1.set_ylabel(\"Labels des clusters\")\n",
    "\n",
    "# The vertical line for average silhouette score of all the values\n",
    "ax1.axvline(x=silhouette_avg, color=\"red\", linestyle=\"--\")\n",
    "\n",
    "ax1.set_yticks([])  # Clear the yaxis labels / ticks\n",
    "ax1.set_xticks([-1, -0.8, -0.6, -0.4,-0.2, 0, 0.2, 0.4, 0.6, 0.8, 1])\n",
    "\n",
    "# 2nd Plot showing the actual clusters formed\n",
    "colors = cm.nipy_spectral(cluster_labels.astype(float) / n_clusters)\n",
    "\n",
    "ax2.scatter(reduced_data[:, 0], reduced_data[:, 1], marker='.', s=30, lw=0,\n",
    "            alpha=0.7, c=colors, edgecolor='k')\n",
    "\n",
    "# Labeling the clusters\n",
    "centers = clusterer.cluster_centers_\n",
    "# Draw white circles at cluster centers\n",
    "ax2.scatter(centers[:, 0], centers[:, 1], marker='o', c=\"white\", alpha=1, s=200, edgecolor='k')\n",
    "\n",
    "for i, c in enumerate(centers):\n",
    "    ax2.scatter(c[0], c[1], marker='$%d$' % i, alpha=1, s=50, edgecolor='k')\n",
    "\n",
    "    ax2.set_title(\"Visualisation de la donnée clusterisée.\")\n",
    "    ax2.set_xlabel(\"Composant principal 1\")\n",
    "    ax2.set_ylabel(\"Composant principal 2\")\n",
    "\n",
    "    plt.suptitle((\"Analyse de la silhouette pour l'algorithme de clusterisation K-means pour les données RFM \"\n",
    "                  \"avec n_clusters = %d\" % n_clusters), fontsize=14, fontweight='bold')\n",
    "plt.show()"
   ]
  },
  {
   "cell_type": "code",
   "execution_count": null,
   "metadata": {},
   "outputs": [],
   "source": [
    "n_clusters = 14"
   ]
  },
  {
   "cell_type": "code",
   "execution_count": null,
   "metadata": {},
   "outputs": [],
   "source": [
    "clusterer = KMeans(n_clusters=n_clusters, init=\"random\")\n",
    "cluster_labels = clusterer.fit_predict(X_red)"
   ]
  },
  {
   "cell_type": "code",
   "execution_count": null,
   "metadata": {},
   "outputs": [],
   "source": [
    "X1 = X_red.copy()\n",
    "X1[\"cluster_appartenance\"] = cluster_labels\n",
    "stats1 = X1.groupby('cluster_appartenance')[['recency', \"frequency\", \"monetary_value\"]]. \\\n",
    "            agg([np.mean])\n",
    "st1 = stats1.copy()\n",
    "st1[\"size\"] = X1.groupby('cluster_appartenance')[['recency']].agg([np.size]) \n",
    "st1"
   ]
  },
  {
   "cell_type": "code",
   "execution_count": null,
   "metadata": {},
   "outputs": [],
   "source": [
    "customer_segment_ = pd.DataFrame()\n",
    "segment_ = [\"Best Customers\", \"Loyal Customers\", \"Promissing\", \"Big Spenders\",\n",
    "            \"Almost Lost\", \"Lost Customers\", \"Lost Cheap Customers\"\n",
    "           ]\n",
    "description_ = [\"Les clients qui ont acheté le plus récemment, le plus souvent \\\n",
    "                et qui dépensent le plus.\",\n",
    "                \"Les clients ayant acheté le plus récemment\",\n",
    "                \"Des acheteurs récents, mais qui n'ont pas beaucoup dépensé\",\n",
    "                \"Les clients qui dépensent le plus\",\n",
    "                \"N'ont pas acheté depuis un certain temps, mais ont acheté fréquemment \\\n",
    "                et ont dépensé le plus.\",\n",
    "                \"N'ont pas acheté depuis longtemps, mais ont acheté fréquemment \\\n",
    "                et ont dépensé le plus.\",\n",
    "                \"Dernier achat il y a longtemps, acheté peu et dépensé peu.\"\n",
    "               ]\n",
    "marketing_ = [\"Pas d'incitation aux prix, Nouveaux produits et programmes de fidélité\",\n",
    "              \"Vendre des produits de plus grande valeur. Demandez des commentaires. Engagez-les.\",\n",
    "              \"offrir des essais gratuits\",\n",
    "              \"Commercialisez vos produits les plus chers.\",\n",
    "              \"Offrez d'autres produits pertinents et des rabais spéciaux.\",\n",
    "              \"Incitations à des prix agressifs\",\n",
    "              \"Ne passez pas trop de temps à essayer de vous ré-acquérir.\",\n",
    "             ]\n",
    "identify_clusters = [11, 6, 3, 13, 0, 8, 2]  # Identify at each execution\n",
    "nb_cust_ = []\n",
    "for i in identify_clusters:\n",
    "    nb_cust_.append(st1.loc[i, \"size\"].values[0])\n",
    "customer_segment_[\"segment\"] = segment_\n",
    "customer_segment_[\"matching_cluster\"] = clusters\n",
    "customer_segment_[\"number of customers\"] = nb_cust_\n",
    "customer_segment_[\"segment description\"] = description_\n",
    "customer_segment_[\"marketing action\"] = marketing_"
   ]
  },
  {
   "cell_type": "code",
   "execution_count": null,
   "metadata": {},
   "outputs": [],
   "source": [
    "# customer_segment_"
   ]
  },
  {
   "cell_type": "code",
   "execution_count": null,
   "metadata": {},
   "outputs": [],
   "source": [
    "vm = pd.DataFrame(stats1.values.T)\n",
    "stand = preprocessing.StandardScaler().fit_transform(vm)\n",
    "sns.set()\n",
    "sns.lineplot(data=stand, hue=\"Clusters\", markers=True)"
   ]
  },
  {
   "cell_type": "code",
   "execution_count": null,
   "metadata": {},
   "outputs": [],
   "source": [
    "population_avg = X.mean()\n",
    "cluster_avg = X1.groupby(['cluster_appartenance']).mean()\n",
    "relative_imp = cluster_avg / population_avg - 1"
   ]
  },
  {
   "cell_type": "code",
   "execution_count": null,
   "metadata": {},
   "outputs": [],
   "source": [
    "plt.figure(figsize=(8, 4))\n",
    "ax = sns.heatmap(data=relative_imp, annot=True, fmt='.2f', cmap='RdYlGn')\n",
    "ax.set_ylim(len(relative_imp), 0)\n",
    "plt.title('Importance relative des attributs')\n",
    "plt.show()"
   ]
  },
  {
   "cell_type": "code",
   "execution_count": null,
   "metadata": {},
   "outputs": [],
   "source": [
    "reduced_data = TSNE(n_components=2).fit_transform(X_scale)\n",
    "\n",
    "fig, (ax1, ax2) = plt.subplots(1, 2)\n",
    "fig.set_size_inches(18, 7)\n",
    "ax1.set_xlim([-1, 1])\n",
    "# The (n_clusters+1)*10 is for inserting blank space between silhouette\n",
    "# plots of individual clusters, to demarcate them clearly.\n",
    "ax1.set_ylim([0, len(reduced_data) + (n_clusters + 1) * 10])\n",
    "\n",
    "clusterer = KMeans(n_clusters=n_clusters, init=\"random\")\n",
    "cluster_labels2 = clusterer.fit_predict(reduced_data)\n",
    "\n",
    "# The silhouette_score gives the average value for all the samples.\n",
    "silhouette_avg = metrics.silhouette_score(reduced_data, cluster_labels2)\n",
    "print(\"Pour n_clusters =\", n_clusters, \", Le score de la silhouette moyenne est :\", silhouette_avg)\n",
    "# Compute the silhouette scores for each sample\n",
    "sample_silhouette_values = metrics.silhouette_samples(reduced_data, cluster_labels2)\n",
    "\n",
    "y_lower = 10\n",
    "for i in range(n_clusters):\n",
    "    # Aggregate the silhouette scores for samples belonging to\n",
    "    # cluster i, and sort them\n",
    "    ith_cluster_silhouette_values = sample_silhouette_values[cluster_labels2 == i]\n",
    "    ith_cluster_silhouette_values.sort()\n",
    "\n",
    "    size_cluster_i = ith_cluster_silhouette_values.shape[0]\n",
    "    y_upper = y_lower + size_cluster_i\n",
    "\n",
    "    color = cm.nipy_spectral(float(i) / n_clusters)\n",
    "    ax1.fill_betweenx(np.arange(y_lower, y_upper),0, ith_cluster_silhouette_values,\n",
    "                      facecolor=color, edgecolor=color, alpha=0.7)\n",
    "    \n",
    "    # Label the silhouette plots with their cluster numbers at the middle\n",
    "    ax1.text(-0.05, y_lower + 0.5*size_cluster_i, str(i))\n",
    "\n",
    "    # Compute the new y_lower for next plot\n",
    "    y_lower = y_upper + 10  # 10 for the 0 samples\n",
    "    \n",
    "ax1.set_title(\"Silhouette graphique pour les différents clusters\")\n",
    "ax1.set_xlabel(\"Valeurs des coefficients de silhouette\")\n",
    "ax1.set_ylabel(\"Labels des clusters\")\n",
    "\n",
    "# The vertical line for average silhouette score of all the values\n",
    "ax1.axvline(x=silhouette_avg, color=\"red\", linestyle=\"--\")\n",
    "\n",
    "ax1.set_yticks([])  # Clear the yaxis labels / ticks\n",
    "ax1.set_xticks([-1, -0.8, -0.6, -0.4,-0.2, 0, 0.2, 0.4, 0.6, 0.8, 1])\n",
    "\n",
    "# 2nd Plot showing the actual clusters formed\n",
    "colors = cm.nipy_spectral(cluster_labels2.astype(float) / n_clusters)\n",
    "\n",
    "ax2.scatter(reduced_data[:, 0], reduced_data[:, 1], marker='.', s=30, lw=0,\n",
    "            alpha=0.7, c=colors, edgecolor='k')\n",
    "\n",
    "# Labeling the clusters\n",
    "centers = clusterer.cluster_centers_\n",
    "# Draw white circles at cluster centers\n",
    "ax2.scatter(centers[:, 0], centers[:, 1], marker='o', c=\"white\", alpha=1, s=200, edgecolor='k')\n",
    "\n",
    "for i, c in enumerate(centers):\n",
    "    ax2.scatter(c[0], c[1], marker='$%d$' % i, alpha=1, s=50, edgecolor='k')\n",
    "\n",
    "    ax2.set_title(\"Visualisation de la donnée clusterisée.\")\n",
    "    ax2.set_xlabel(\"Feature 1\")\n",
    "    ax2.set_ylabel(\"Feature 2\")\n",
    "\n",
    "    plt.suptitle((\"Analyse de la silhouette pour l'algorithme de clusterisation K-means pour les données RFM \"\n",
    "                  \"avec n_clusters = %d\" % n_clusters), fontsize=14, fontweight='bold')\n",
    "plt.show()"
   ]
  },
  {
   "cell_type": "code",
   "execution_count": null,
   "metadata": {},
   "outputs": [],
   "source": [
    "X2 = X.copy()\n",
    "X2[\"cluster_appartenance\"] = cluster_labels2\n",
    "stats2 = X2.groupby('cluster_appartenance')[['recency', \"frequency\", \"monetary_value\"]]. \\\n",
    "            agg([np.mean])\n",
    "st2 = stats2.copy()\n",
    "st2[\"size\"] = X2.groupby('cluster_appartenance')[['recency']].agg([np.size]) \n",
    "st2"
   ]
  },
  {
   "cell_type": "code",
   "execution_count": null,
   "metadata": {},
   "outputs": [],
   "source": [
    "vm = pd.DataFrame(stats2.values.T)\n",
    "stand = preprocessing.StandardScaler().fit_transform(vm)\n",
    "sns.set()\n",
    "sns.lineplot(data=stand, markers=True)"
   ]
  },
  {
   "cell_type": "code",
   "execution_count": null,
   "metadata": {},
   "outputs": [],
   "source": [
    "population_avg = X.mean()\n",
    "cluster_avg = X2.groupby(['cluster_appartenance']).mean()\n",
    "relative_imp2 = cluster_avg / population_avg - 1"
   ]
  },
  {
   "cell_type": "code",
   "execution_count": null,
   "metadata": {},
   "outputs": [],
   "source": [
    "plt.figure(figsize=(8, 4))\n",
    "ax = sns.heatmap(data=relative_imp2, annot=True, fmt='.2f', cmap='RdYlGn')\n",
    "ax.set_ylim(len(relative_imp), 0)\n",
    "plt.title('Importance relative des attributs')\n",
    "plt.show()"
   ]
  },
  {
   "cell_type": "code",
   "execution_count": null,
   "metadata": {},
   "outputs": [],
   "source": [
    "# DBSCAN Algorithm "
   ]
  },
  {
   "cell_type": "code",
   "execution_count": null,
   "metadata": {},
   "outputs": [],
   "source": [
    "sns.set(style=\"ticks\", color_codes=True)\n",
    "eps = [0.5, 2]\n",
    "neighs = [3, 5]\n",
    "silhouettes = []\n",
    "i = 0\n",
    "score_max = 0\n",
    "v_eps = 0\n",
    "v_neigh = 0\n",
    "for ep in eps:\n",
    "    for n in neighs:\n",
    "        db = DBSCAN(eps=ep, min_samples=n).fit(X_scale)\n",
    "        score = metrics.silhouette_score(X_scale, db.labels_)\n",
    "        silhouettes.append(score)\n",
    "        if i == 0:\n",
    "            v_eps = ep\n",
    "            v_neigh = n\n",
    "            score_max = score\n",
    "            i += 1\n",
    "        else:\n",
    "            if score > score_max:\n",
    "                v_eps = ep\n",
    "                v_neigh = n\n",
    "                score_max = score\n",
    "print(v_eps)\n",
    "print(v_neigh)\n",
    "sns.lineplot(x=eps, y=silhouettes, hue=[3, 5, 3, 5], marker=\"o\")"
   ]
  },
  {
   "cell_type": "code",
   "execution_count": null,
   "metadata": {},
   "outputs": [],
   "source": [
    "v_eps = 1"
   ]
  },
  {
   "cell_type": "code",
   "execution_count": null,
   "metadata": {},
   "outputs": [],
   "source": [
    "reduced_data = TSNE(n_components=2).fit_transform(X_scale)\n",
    "\n",
    "db = DBSCAN(eps=v_eps, min_samples=10).fit(reduced_data)\n",
    "core_samples_mask = np.zeros_like(db.labels_, dtype=bool)\n",
    "core_samples_mask[db.core_sample_indices_] = True\n",
    "labels = db.labels_\n",
    "\n",
    "# Number of clusters in labels, ignoring noise if present.\n",
    "n_clusters_ = len(set(labels)) - (1 if -1 in labels else 0)\n",
    "n_noise_ = list(labels).count(-1)\n",
    "\n",
    "print('Estimated number of clusters: %d' % n_clusters_)\n",
    "print('Estimated number of noise points: %d' % n_noise_)\n",
    "print(\"Silhouette Coefficient: %0.3f\" % metrics.silhouette_score(reduced_data, labels))\n",
    "\n",
    "# Black removed and is used for noise instead.\n",
    "fig, ax1 = plt.subplots(1, 1)\n",
    "fig.set_size_inches(12, 4)\n",
    "colors = cm.nipy_spectral(labels.astype(float) / n_clusters_)\n",
    "ax1.scatter(reduced_data[:, 0], reduced_data[:, 1], marker='.', s=30, lw=0, alpha=0.7,\n",
    "            c=colors, edgecolor='k')\n",
    "plt.show()"
   ]
  },
  {
   "cell_type": "code",
   "execution_count": null,
   "metadata": {},
   "outputs": [],
   "source": [
    "# Agglomerative clustering"
   ]
  },
  {
   "cell_type": "code",
   "execution_count": null,
   "metadata": {},
   "outputs": [],
   "source": [
    "def plot_dendrogram(model, **kwargs):\n",
    "    # Create linkage matrix and then plot the dendrogram\n",
    "\n",
    "    # create the counts of samples under each node\n",
    "    counts = np.zeros(model.children_.shape[0])\n",
    "    n_samples = len(model.labels_)\n",
    "    for i, merge in enumerate(model.children_):\n",
    "        current_count = 0\n",
    "        for child_idx in merge:\n",
    "            if child_idx < n_samples:\n",
    "                current_count += 1  # leaf node\n",
    "            else:\n",
    "                current_count += counts[child_idx - n_samples]\n",
    "        counts[i] = current_count\n",
    "\n",
    "    linkage_matrix = np.column_stack([model.children_, model.distances_,\n",
    "                                      counts]).astype(float)\n",
    "\n",
    "    # Plot the corresponding dendrogram\n",
    "    dendrogram(linkage_matrix, **kwargs)"
   ]
  },
  {
   "cell_type": "code",
   "execution_count": null,
   "metadata": {},
   "outputs": [],
   "source": []
  }
 ],
 "metadata": {
  "kernelspec": {
   "display_name": "Python 3",
   "language": "python",
   "name": "python3"
  },
  "language_info": {
   "codemirror_mode": {
    "name": "ipython",
    "version": 3
   },
   "file_extension": ".py",
   "mimetype": "text/x-python",
   "name": "python",
   "nbconvert_exporter": "python",
   "pygments_lexer": "ipython3",
   "version": "3.7.6"
  }
 },
 "nbformat": 4,
 "nbformat_minor": 2
}
